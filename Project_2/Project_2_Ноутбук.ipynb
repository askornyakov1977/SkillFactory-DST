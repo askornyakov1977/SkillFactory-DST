{
  "cells": [
    {
      "attachments": {},
      "cell_type": "markdown",
      "id": "42289889-bd57-434e-9637-d3e354756316",
      "metadata": {
        "id": "42289889-bd57-434e-9637-d3e354756316"
      },
      "source": [
        "<center> <img src = https://raw.githubusercontent.com/AndreyRysistov/DatasetsForPandas/main/hh%20label.jpg alt=\"drawing\" style=\"width:400px;\">"
      ]
    },
    {
      "attachments": {},
      "cell_type": "markdown",
      "id": "829cb75b-f14e-4ba8-9195-7ba929a7d656",
      "metadata": {
        "id": "829cb75b-f14e-4ba8-9195-7ba929a7d656",
        "tags": []
      },
      "source": [
        "# <center> Проект: Анализ вакансий из HeadHunter\n",
        "   "
      ]
    },
    {
      "cell_type": "code",
      "execution_count": 239,
      "id": "dccfde33-2452-43fb-a8a5-5c6ebc02a71d",
      "metadata": {
        "id": "dccfde33-2452-43fb-a8a5-5c6ebc02a71d"
      },
      "outputs": [],
      "source": [
        "import pandas as pd\n",
        "# Можно было бы, для подключения к БД, воспользоваться библиотекой psycopg2, но\n",
        "# в таком случае при каждом вызове метода pandas.read_sql_query выходит предупреждение: \n",
        "# UserWarning: pandas only supports SQLAlchemy connectable (engine/connection) or\n",
        "# database string URI or sqlite3 DBAPI2 connection. \n",
        "# Other DBAPI2 objects are not tested. \n",
        "# Please consider using SQLAlchemy.\n",
        "# Поэтому, в соответствии с данным предупреждением, мной используется библиотека SQLAlchemy \n",
        "from sqlalchemy import create_engine, text"
      ]
    },
    {
      "cell_type": "code",
      "execution_count": 240,
      "id": "oVKH4ehvf8Ay",
      "metadata": {
        "id": "oVKH4ehvf8Ay"
      },
      "outputs": [],
      "source": [
        "# Для подключения берем данные их текстового файла (который не выкладывается на github) и кладем их в словарь:\n",
        "params = {k.strip():v.strip() for k, v in (l.split('=') for l in open('config.txt'))}"
      ]
    },
    {
      "cell_type": "code",
      "execution_count": 241,
      "id": "G4X_q8KBf7SF",
      "metadata": {
        "id": "G4X_q8KBf7SF"
      },
      "outputs": [],
      "source": [
        "# Формируем строку подключения с заданными параметрами\n",
        "url=f'''postgresql+psycopg2://{params['USER']}:{params['PASSWORD']}@{params['HOST']}:{params['PORT']}/{params['DBNAME']}'''\n",
        "# Подключаемся к БД\n",
        "engine = create_engine(url)\n",
        "connection = engine.connect()"
      ]
    },
    {
      "attachments": {},
      "cell_type": "markdown",
      "id": "0dc6476b-7a00-44f1-ac93-6e3baed33a29",
      "metadata": {
        "id": "0dc6476b-7a00-44f1-ac93-6e3baed33a29"
      },
      "source": [
        "# Юнит 3. Предварительный анализ данных"
      ]
    },
    {
      "attachments": {},
      "cell_type": "markdown",
      "id": "889782b6-8d1c-410e-8920-e57f27917c64",
      "metadata": {
        "id": "889782b6-8d1c-410e-8920-e57f27917c64"
      },
      "source": [
        "1. Напишите запрос, который посчитает количество вакансий в нашей базе (вакансии находятся в таблице vacancies). "
      ]
    },
    {
      "cell_type": "code",
      "execution_count": 242,
      "id": "bc39e68e-ed02-4ee2-9235-7258a2f867a8",
      "metadata": {
        "id": "bc39e68e-ed02-4ee2-9235-7258a2f867a8"
      },
      "outputs": [],
      "source": [
        "# текст запроса\n",
        "query_3_1 = f'''\n",
        "    select count(*)\n",
        "    from vacancies\n",
        "'''"
      ]
    },
    {
      "cell_type": "code",
      "execution_count": 243,
      "id": "7mAwtsk4hEHY",
      "metadata": {
        "id": "7mAwtsk4hEHY"
      },
      "outputs": [
        {
          "name": "stdout",
          "output_type": "stream",
          "text": [
            "   count\n",
            "0  49197\n"
          ]
        }
      ],
      "source": [
        "# результат запроса\n",
        "df = pd.read_sql_query(text(query_3_1), connection)\n",
        "print(df)"
      ]
    },
    {
      "attachments": {},
      "cell_type": "markdown",
      "id": "b583485d-1f9e-494e-ada4-80ffff7c53d6",
      "metadata": {
        "id": "b583485d-1f9e-494e-ada4-80ffff7c53d6"
      },
      "source": [
        "2. Напишите запрос, который посчитает количество работодателей (таблица employers). "
      ]
    },
    {
      "cell_type": "code",
      "execution_count": 244,
      "id": "5408c52c-3407-4a63-b25b-1aafa2322d28",
      "metadata": {
        "id": "5408c52c-3407-4a63-b25b-1aafa2322d28"
      },
      "outputs": [],
      "source": [
        "# текст запроса\n",
        "query_3_2 = f'''\n",
        "    select count(*)\n",
        "    from employers\n",
        "'''"
      ]
    },
    {
      "cell_type": "code",
      "execution_count": 245,
      "id": "jVL4eshKhdqc",
      "metadata": {
        "id": "jVL4eshKhdqc"
      },
      "outputs": [
        {
          "name": "stdout",
          "output_type": "stream",
          "text": [
            "   count\n",
            "0  23501\n"
          ]
        }
      ],
      "source": [
        "# результат запроса\n",
        "df = pd.read_sql_query(text(query_3_2), connection)\n",
        "print(df)"
      ]
    },
    {
      "attachments": {},
      "cell_type": "markdown",
      "id": "a2bfff1f-c975-4bf6-84be-2185d79dcb76",
      "metadata": {
        "id": "a2bfff1f-c975-4bf6-84be-2185d79dcb76"
      },
      "source": [
        "3. Посчитате с помощью запроса количество регионов (таблица areas)."
      ]
    },
    {
      "cell_type": "code",
      "execution_count": 246,
      "id": "1m8QJwBYhey6",
      "metadata": {
        "id": "1m8QJwBYhey6"
      },
      "outputs": [],
      "source": [
        "# текст запроса\n",
        "query_3_3 = f'''\n",
        "    select count(*)\n",
        "    from areas\n",
        "'''"
      ]
    },
    {
      "cell_type": "code",
      "execution_count": 247,
      "id": "EZsn9tlfhe7f",
      "metadata": {
        "id": "EZsn9tlfhe7f"
      },
      "outputs": [
        {
          "name": "stdout",
          "output_type": "stream",
          "text": [
            "   count\n",
            "0   1362\n"
          ]
        }
      ],
      "source": [
        "# результат запроса\n",
        "df = pd.read_sql_query(text(query_3_3), connection)\n",
        "print(df)"
      ]
    },
    {
      "attachments": {},
      "cell_type": "markdown",
      "id": "41bb59f3-53cc-4a67-a5bc-bedf573955e4",
      "metadata": {
        "id": "41bb59f3-53cc-4a67-a5bc-bedf573955e4"
      },
      "source": [
        "4. Посчитате с помощью запроса количество сфер деятельности в базе (таблица industries)."
      ]
    },
    {
      "cell_type": "code",
      "execution_count": 248,
      "id": "d286cf4c-707b-4cd2-9190-7ab3587d04a1",
      "metadata": {
        "id": "d286cf4c-707b-4cd2-9190-7ab3587d04a1"
      },
      "outputs": [],
      "source": [
        "# текст запроса\n",
        "query_3_4 = f'''\n",
        "    select count(*)\n",
        "    from industries\n",
        "'''"
      ]
    },
    {
      "cell_type": "code",
      "execution_count": 249,
      "id": "JYAaoZ4qhfzW",
      "metadata": {
        "id": "JYAaoZ4qhfzW"
      },
      "outputs": [
        {
          "name": "stdout",
          "output_type": "stream",
          "text": [
            "   count\n",
            "0    294\n"
          ]
        }
      ],
      "source": [
        "# результат запроса\n",
        "df = pd.read_sql_query(text(query_3_4), connection)\n",
        "print(df)"
      ]
    },
    {
      "attachments": {},
      "cell_type": "markdown",
      "id": "9a8a2181-6914-448b-85f1-38f5f18b8a93",
      "metadata": {
        "id": "9a8a2181-6914-448b-85f1-38f5f18b8a93"
      },
      "source": [
        "***"
      ]
    },
    {
      "attachments": {},
      "cell_type": "markdown",
      "id": "0dfd53fd",
      "metadata": {},
      "source": [
        "*На основании проведенного предварительного анализа данных, можно сделать вывод, что мы имеем объем данных, достаточный для создания модели машинного обучения, которая будет рекомендовать вакансии клиентам агентства, претендующим на позицию Data Scientist.*"
      ]
    },
    {
      "attachments": {},
      "cell_type": "markdown",
      "id": "8d62a9f3-f64e-4fe7-bdac-c4dffa16155e",
      "metadata": {
        "id": "8d62a9f3-f64e-4fe7-bdac-c4dffa16155e"
      },
      "source": [
        "# Юнит 4. Детальный анализ вакансий"
      ]
    },
    {
      "attachments": {},
      "cell_type": "markdown",
      "id": "93053d3d-b284-481a-9cf7-012d7014c0e0",
      "metadata": {
        "id": "93053d3d-b284-481a-9cf7-012d7014c0e0"
      },
      "source": [
        "1. Напишите запрос, который позволит узнать, сколько (cnt) вакансий в каждом регионе (area).\n",
        "Отсортируйте по количеству вакансий в порядке убывания."
      ]
    },
    {
      "cell_type": "code",
      "execution_count": 250,
      "id": "3f069da6-fdc9-4ae7-b514-fafe2675efd3",
      "metadata": {
        "id": "3f069da6-fdc9-4ae7-b514-fafe2675efd3"
      },
      "outputs": [],
      "source": [
        "# текст запроса\n",
        "query_4_1 = f'''\n",
        "    select \n",
        "        a.name area,\n",
        "        count(v.id) cnt\n",
        "    from public.areas a\n",
        "    join public.vacancies v on v.area_id = a.id\n",
        "    group by a.name\n",
        "    order by count(v.id) desc\n",
        "    limit 5\n",
        "    '''"
      ]
    },
    {
      "cell_type": "code",
      "execution_count": 251,
      "id": "P7QL86hrjhRJ",
      "metadata": {
        "id": "P7QL86hrjhRJ"
      },
      "outputs": [
        {
          "name": "stdout",
          "output_type": "stream",
          "text": [
            "              area   cnt\n",
            "0           Москва  5333\n",
            "1  Санкт-Петербург  2851\n",
            "2            Минск  2112\n",
            "3      Новосибирск  2006\n",
            "4           Алматы  1892\n"
          ]
        }
      ],
      "source": [
        "# результат запроса\n",
        "df = pd.read_sql_query(text(query_4_1), connection)\n",
        "print(df)"
      ]
    },
    {
      "attachments": {},
      "cell_type": "markdown",
      "id": "4266f0b6-1646-492a-88b4-2f6a46502135",
      "metadata": {
        "id": "4266f0b6-1646-492a-88b4-2f6a46502135"
      },
      "source": [
        "2. Напишите запрос, чтобы определить у какого количества вакансий заполнено хотя бы одно из двух полей с зарплатой."
      ]
    },
    {
      "cell_type": "code",
      "execution_count": 252,
      "id": "0c44b350-72eb-4d65-8b54-a1fc449ba9fd",
      "metadata": {
        "id": "0c44b350-72eb-4d65-8b54-a1fc449ba9fd"
      },
      "outputs": [],
      "source": [
        "# текст запроса\n",
        "query_4_2 = f'''\n",
        "    select \n",
        "        count(v.id)\n",
        "    from public.vacancies v\n",
        "    where salary_from is not null or salary_to is not null\n",
        "    '''"
      ]
    },
    {
      "cell_type": "code",
      "execution_count": 253,
      "id": "rhvwaMDkoWTi",
      "metadata": {
        "id": "rhvwaMDkoWTi"
      },
      "outputs": [
        {
          "name": "stdout",
          "output_type": "stream",
          "text": [
            "   count\n",
            "0  24073\n"
          ]
        }
      ],
      "source": [
        "# результат запроса\n",
        "df = pd.read_sql_query(text(query_4_2), connection)\n",
        "print(df)"
      ]
    },
    {
      "attachments": {},
      "cell_type": "markdown",
      "id": "635c4d5d-f323-4c66-b428-50a088120aa0",
      "metadata": {
        "id": "635c4d5d-f323-4c66-b428-50a088120aa0"
      },
      "source": [
        "3. Найдите средние значения для нижней и верхней границы зарплатной вилки. Округлите значения до целого."
      ]
    },
    {
      "cell_type": "code",
      "execution_count": 254,
      "id": "603cdbe4-0ec3-4106-8eaf-c73fcdd29165",
      "metadata": {
        "id": "603cdbe4-0ec3-4106-8eaf-c73fcdd29165"
      },
      "outputs": [],
      "source": [
        "# текст запроса\n",
        "query_4_3 = f'''\n",
        "    select \n",
        "        round(avg(v.salary_from)) mean_salary_from,\n",
        "        round(avg(v.salary_to)) mean_salary_to\n",
        "    from public.vacancies v\n",
        "    '''"
      ]
    },
    {
      "cell_type": "code",
      "execution_count": 255,
      "id": "pswpAb66ovZZ",
      "metadata": {
        "id": "pswpAb66ovZZ"
      },
      "outputs": [
        {
          "name": "stdout",
          "output_type": "stream",
          "text": [
            "   mean_salary_from  mean_salary_to\n",
            "0           71065.0        110537.0\n"
          ]
        }
      ],
      "source": [
        "# результат запроса\n",
        "df = pd.read_sql_query(text(query_4_3), connection)\n",
        "print(df)"
      ]
    },
    {
      "attachments": {},
      "cell_type": "markdown",
      "id": "f3fdaec9-5fd3-4260-9cf5-1d7406b628a5",
      "metadata": {
        "id": "f3fdaec9-5fd3-4260-9cf5-1d7406b628a5"
      },
      "source": [
        "4. Напишите запрос, который выведет количество вакансий для каждого сочетания типа рабочего графика (schedule) и типа трудоустройства (employment), используемого в вакансиях. Результат отсортируйте по убыванию количества.\n"
      ]
    },
    {
      "cell_type": "code",
      "execution_count": 256,
      "id": "1ea710ec-871b-431e-9462-c7d0fd87011b",
      "metadata": {
        "id": "1ea710ec-871b-431e-9462-c7d0fd87011b"
      },
      "outputs": [],
      "source": [
        "# текст запроса\n",
        "query_4_4 = f'''\n",
        "    select \n",
        "        v.schedule,\n",
        "        v.employment,\n",
        "        count(v.id) cnt\n",
        "    from public.vacancies v\n",
        "    group by v.schedule, v.employment\n",
        "    order by count(v.id) desc \n",
        "    '''"
      ]
    },
    {
      "cell_type": "code",
      "execution_count": 257,
      "id": "lGUVqavdo4JQ",
      "metadata": {
        "id": "lGUVqavdo4JQ"
      },
      "outputs": [
        {
          "name": "stdout",
          "output_type": "stream",
          "text": [
            "            schedule           employment    cnt\n",
            "0        Полный день     Полная занятость  35367\n",
            "1   Удаленная работа     Полная занятость   7802\n",
            "2      Гибкий график     Полная занятость   1593\n",
            "3   Удаленная работа  Частичная занятость   1312\n",
            "4     Сменный график     Полная занятость    940\n",
            "5        Полный день           Стажировка    569\n",
            "6     Вахтовый метод     Полная занятость    367\n",
            "7        Полный день  Частичная занятость    347\n",
            "8      Гибкий график  Частичная занятость    312\n",
            "9        Полный день     Проектная работа    141\n",
            "10  Удаленная работа     Проектная работа    133\n",
            "11     Гибкий график           Стажировка    116\n",
            "12    Сменный график  Частичная занятость    101\n",
            "13  Удаленная работа           Стажировка     64\n",
            "14     Гибкий график     Проектная работа     18\n",
            "15    Сменный график           Стажировка     12\n",
            "16    Вахтовый метод     Проектная работа      2\n",
            "17    Сменный график     Проектная работа      1\n"
          ]
        }
      ],
      "source": [
        "# результат запроса\n",
        "df = pd.read_sql_query(text(query_4_4), connection)\n",
        "print(df)"
      ]
    },
    {
      "attachments": {},
      "cell_type": "markdown",
      "id": "0136ffee-0ead-4a6b-b608-61d1c753a438",
      "metadata": {
        "id": "0136ffee-0ead-4a6b-b608-61d1c753a438"
      },
      "source": [
        "5. Напишите запрос, выводящий значения поля Требуемый опыт работы (experience) в порядке возрастания количества вакансий, в которых указан данный вариант опыта. "
      ]
    },
    {
      "cell_type": "code",
      "execution_count": 258,
      "id": "5b3a8e79-f7ab-4008-b767-12aea3a205ea",
      "metadata": {
        "id": "5b3a8e79-f7ab-4008-b767-12aea3a205ea"
      },
      "outputs": [],
      "source": [
        "# текст запроса\n",
        "query_4_5 = f'''\n",
        "    select \n",
        "        v.experience,\n",
        "        count(v.id) cnt\n",
        "    from public.vacancies v\n",
        "    group by v.experience\n",
        "    order by count(v.id) \n",
        "    '''"
      ]
    },
    {
      "cell_type": "code",
      "execution_count": 259,
      "id": "3Is64Y-hpDpq",
      "metadata": {
        "id": "3Is64Y-hpDpq"
      },
      "outputs": [
        {
          "name": "stdout",
          "output_type": "stream",
          "text": [
            "           experience    cnt\n",
            "0         Более 6 лет   1337\n",
            "1           Нет опыта   7197\n",
            "2       От 3 до 6 лет  14511\n",
            "3  От 1 года до 3 лет  26152\n"
          ]
        }
      ],
      "source": [
        "# результат запроса\n",
        "df = pd.read_sql_query(text(query_4_5), connection)\n",
        "print(df)"
      ]
    },
    {
      "attachments": {},
      "cell_type": "markdown",
      "id": "oq2b7n1QpIka",
      "metadata": {
        "id": "oq2b7n1QpIka"
      },
      "source": [
        "***"
      ]
    },
    {
      "attachments": {},
      "cell_type": "markdown",
      "id": "a45bf6eb",
      "metadata": {},
      "source": [
        "*Детальный анализ вакансий показывает, что в больших городах, таких как Москва, Санкт-Петербург, Минск, Новосибирск, Алматы самый большой спрос на рынке труда. И это логично, чем больше город, тем больше работодателей, и соответсвенно вакансий. В 49% вакансий указана зарплата, средние значения составляют от 71065 до 110537 руб. Набирает актальность удаленная работа, при полной занятости, данный вид графика работы занимает вторую позицию после полного рабочего дня. Наиболее востребованы специалисты с опытом работы от 1 до 3 лет.*"
      ]
    },
    {
      "attachments": {},
      "cell_type": "markdown",
      "id": "7ea20ab6-04a7-40a0-adec-443a0e5a42c3",
      "metadata": {
        "id": "7ea20ab6-04a7-40a0-adec-443a0e5a42c3"
      },
      "source": [
        "# Юнит 5. Анализ работодателей"
      ]
    },
    {
      "attachments": {},
      "cell_type": "markdown",
      "id": "968aed80-74ef-4ffb-b5bf-c65b84e9caea",
      "metadata": {
        "id": "968aed80-74ef-4ffb-b5bf-c65b84e9caea"
      },
      "source": [
        "1. Напишите запрос, который позволит узнать, какие работодатели находятся на первом и пятом месте по количеству вакансий."
      ]
    },
    {
      "cell_type": "code",
      "execution_count": 260,
      "id": "f2d62796-d400-4ec1-a675-88112739a50e",
      "metadata": {
        "id": "f2d62796-d400-4ec1-a675-88112739a50e"
      },
      "outputs": [],
      "source": [
        "# текст запроса\n",
        "query_5_1 = f'''\n",
        "with cte as \n",
        "    (select \n",
        "        e.name employee_name, \n",
        "        row_number() over (order by count(e.name) desc) as rn \n",
        "    from vacancies v \n",
        "    join employers e on v.employer_id = e.id group by e.name)\n",
        "select c.employee_name from cte c where rn in (1, 5)\n",
        "    '''"
      ]
    },
    {
      "cell_type": "code",
      "execution_count": 261,
      "id": "64tOMkAxqkQk",
      "metadata": {
        "id": "64tOMkAxqkQk"
      },
      "outputs": [
        {
          "name": "stdout",
          "output_type": "stream",
          "text": [
            "   employee_name\n",
            "0         Яндекс\n",
            "1  Газпром нефть\n"
          ]
        }
      ],
      "source": [
        "# результат запроса\n",
        "df = pd.read_sql_query(text(query_5_1), connection)\n",
        "print(df)"
      ]
    },
    {
      "attachments": {},
      "cell_type": "markdown",
      "id": "68377cfc-b378-43dc-ab7d-1195abf2c515",
      "metadata": {
        "id": "68377cfc-b378-43dc-ab7d-1195abf2c515"
      },
      "source": [
        "2. Напишите запрос, который для каждого региона выведет количество работодателей и вакансий в нём.\n",
        "Среди регионов, в которых нет вакансий, найдите тот, в котором наибольшее количество работодателей.\n"
      ]
    },
    {
      "cell_type": "code",
      "execution_count": 262,
      "id": "dd7df27a-e3e8-412e-a21a-5d389b71e891",
      "metadata": {
        "id": "dd7df27a-e3e8-412e-a21a-5d389b71e891"
      },
      "outputs": [],
      "source": [
        "# текст запроса\n",
        "query_5_2 = f'''\n",
        "    select \n",
        "        a1.name area,\n",
        "        sub.cnt_vacancies,\n",
        "        count(e.id) cnt_employers\n",
        "    from public.areas a1\n",
        "    left join public.employers e on e.area = a1.id\n",
        "    join (select \n",
        "                    a2.name area,  \n",
        "                    count(v.id) cnt_vacancies\n",
        "                from public.areas a2\n",
        "                left join public.vacancies v on v.area_id = a2.id\n",
        "                group by a2.name\n",
        "                ) sub on sub.area = a1.name\n",
        "    group by a1.name, sub.cnt_vacancies\n",
        "    order by sub.cnt_vacancies, count(e.id) desc\n",
        "    limit 5\n",
        "    '''"
      ]
    },
    {
      "cell_type": "code",
      "execution_count": 263,
      "id": "x1ikWbydrbf6",
      "metadata": {
        "id": "x1ikWbydrbf6"
      },
      "outputs": [
        {
          "name": "stdout",
          "output_type": "stream",
          "text": [
            "                 area  cnt_vacancies  cnt_employers\n",
            "0              Россия              0            410\n",
            "1           Казахстан              0            207\n",
            "2  Московская область              0             75\n",
            "3  Краснодарский край              0             19\n",
            "4  Ростовская область              0             18\n"
          ]
        }
      ],
      "source": [
        "# результат запроса\n",
        "df = pd.read_sql_query(text(query_5_2), connection)\n",
        "print(df)"
      ]
    },
    {
      "attachments": {},
      "cell_type": "markdown",
      "id": "f2fe0acb-ab1a-4e15-9326-2560e22d73c1",
      "metadata": {
        "id": "f2fe0acb-ab1a-4e15-9326-2560e22d73c1"
      },
      "source": [
        "3. Для каждого работодателя посчитайте количество регионов, в которых он публикует свои вакансии. Отсортируйте результат по убыванию количества.\n"
      ]
    },
    {
      "cell_type": "code",
      "execution_count": 264,
      "id": "6271f8ad-bd2e-4196-ae4a-5b39c4c1010e",
      "metadata": {
        "id": "6271f8ad-bd2e-4196-ae4a-5b39c4c1010e"
      },
      "outputs": [],
      "source": [
        "# текст запроса\n",
        "query_5_3 = f'''\n",
        "    select \n",
        "        e.name employer,\n",
        "        count(DISTINCT v.area_id) cnt_areas \n",
        "    from public.employers e\n",
        "    join public.vacancies v on v.employer_id = e.id\n",
        "    group by e.name\n",
        "    order by count(v.area_id) desc\n",
        "    limit 1\n",
        "    '''"
      ]
    },
    {
      "cell_type": "code",
      "execution_count": 265,
      "id": "1EIvX3HasH4F",
      "metadata": {
        "id": "1EIvX3HasH4F"
      },
      "outputs": [
        {
          "name": "stdout",
          "output_type": "stream",
          "text": [
            "  employer  cnt_areas\n",
            "0   Яндекс        181\n"
          ]
        }
      ],
      "source": [
        "# результат запроса\n",
        "df = pd.read_sql_query(text(query_5_3), connection)\n",
        "print(df)"
      ]
    },
    {
      "attachments": {},
      "cell_type": "markdown",
      "id": "eab2206d-d95b-468b-8e5f-34381abf0ce7",
      "metadata": {
        "id": "eab2206d-d95b-468b-8e5f-34381abf0ce7"
      },
      "source": [
        "4. Напишите запрос для подсчёта количества работодателей, у которых не указана сфера деятельности. "
      ]
    },
    {
      "cell_type": "code",
      "execution_count": 266,
      "id": "80defb23-bfb1-4a18-8be6-bf36aa7165d5",
      "metadata": {
        "id": "80defb23-bfb1-4a18-8be6-bf36aa7165d5"
      },
      "outputs": [],
      "source": [
        "# текст запроса\n",
        "query_5_4 = f'''\n",
        "    select \n",
        "        count(e.id)\n",
        "    from public.employers e\n",
        "    left join public.employers_industries i on i.employer_id = e.id\n",
        "    where i.employer_id is null\n",
        "    '''"
      ]
    },
    {
      "cell_type": "code",
      "execution_count": 267,
      "id": "Dp_yCx6ysQSu",
      "metadata": {
        "id": "Dp_yCx6ysQSu"
      },
      "outputs": [
        {
          "name": "stdout",
          "output_type": "stream",
          "text": [
            "   count\n",
            "0   8419\n"
          ]
        }
      ],
      "source": [
        "# результат запроса\n",
        "df = pd.read_sql_query(text(query_5_4), connection)\n",
        "print(df)"
      ]
    },
    {
      "attachments": {},
      "cell_type": "markdown",
      "id": "0112af31-f6b0-4e3b-82ab-71296e752e5e",
      "metadata": {
        "id": "0112af31-f6b0-4e3b-82ab-71296e752e5e"
      },
      "source": [
        "5. Напишите запрос, чтобы узнать название компании, находящейся на третьем месте в алфавитном списке (по названию) компаний, у которых указано четыре сферы деятельности. "
      ]
    },
    {
      "cell_type": "code",
      "execution_count": 268,
      "id": "973b0cfc-a972-470a-8b4a-68744ef220c4",
      "metadata": {
        "id": "973b0cfc-a972-470a-8b4a-68744ef220c4"
      },
      "outputs": [],
      "source": [
        "# текст запроса\n",
        "query_5_5 = f'''\n",
        "    select \n",
        "        e.name employer\n",
        "    from public.employers e\n",
        "    left join public.employers_industries i on i.employer_id = e.id\n",
        "    group by e.name\n",
        "    having count(i.employer_id) = 4\n",
        "    order by e.name\n",
        "    offset 2\n",
        "    limit 1\n",
        "        '''"
      ]
    },
    {
      "cell_type": "code",
      "execution_count": 269,
      "id": "xsPtpp8EsaED",
      "metadata": {
        "id": "xsPtpp8EsaED"
      },
      "outputs": [
        {
          "name": "stdout",
          "output_type": "stream",
          "text": [
            "  employer\n",
            "0     2ГИС\n"
          ]
        }
      ],
      "source": [
        "# результат запроса\n",
        "df = pd.read_sql_query(text(query_5_5), connection)\n",
        "print(df)"
      ]
    },
    {
      "attachments": {},
      "cell_type": "markdown",
      "id": "3bfcfdaf-755d-4d2b-8ed8-326201dc07ab",
      "metadata": {
        "id": "3bfcfdaf-755d-4d2b-8ed8-326201dc07ab"
      },
      "source": [
        "6. С помощью запроса выясните, у какого количества работодателей в качестве сферы деятельности указана Разработка программного обеспечения.\n"
      ]
    },
    {
      "cell_type": "code",
      "execution_count": 270,
      "id": "ad3f270f-2991-47eb-929b-e8f88a55b0d1",
      "metadata": {
        "id": "ad3f270f-2991-47eb-929b-e8f88a55b0d1"
      },
      "outputs": [],
      "source": [
        "# текст запроса\n",
        "query_5_6 = f'''\n",
        "    select \n",
        "        count(e.id) cnt\n",
        "    from public.employers e\n",
        "    join public.employers_industries e_i on e_i.employer_id = e.id\n",
        "    join public.industries i on i.id = e_i.industry_id\n",
        "    where i.name = 'Разработка программного обеспечения'\n",
        "    '''"
      ]
    },
    {
      "cell_type": "code",
      "execution_count": 271,
      "id": "H72qxWM0shPR",
      "metadata": {
        "id": "H72qxWM0shPR"
      },
      "outputs": [
        {
          "name": "stdout",
          "output_type": "stream",
          "text": [
            "    cnt\n",
            "0  3553\n"
          ]
        }
      ],
      "source": [
        "# результат запроса\n",
        "df = pd.read_sql_query(text(query_5_6), connection)\n",
        "print(df)"
      ]
    },
    {
      "attachments": {},
      "cell_type": "markdown",
      "id": "7b02bb86-0546-40fb-94a4-242f050a5c57",
      "metadata": {
        "id": "7b02bb86-0546-40fb-94a4-242f050a5c57"
      },
      "source": [
        "7. Для компании «Яндекс» выведите список регионов-миллионников, в которых представлены вакансии компании, вместе с количеством вакансий в этих регионах. Также добавьте строку Total с общим количеством вакансий компании. Результат отсортируйте по возрастанию количества.\n",
        "\n",
        "Список городов-милионников надо взять [отсюда](https://ru.wikipedia.org/wiki/%D0%93%D0%BE%D1%80%D0%BE%D0%B4%D0%B0-%D0%BC%D0%B8%D0%BB%D0%BB%D0%B8%D0%BE%D0%BD%D0%B5%D1%80%D1%8B_%D0%A0%D0%BE%D1%81%D1%81%D0%B8%D0%B8). \n",
        "\n",
        "Если возникнут трудности с этим задание посмотрите материалы модуля  PYTHON-17. Как получать данные из веб-источников и API. "
      ]
    },
    {
      "cell_type": "code",
      "execution_count": 272,
      "id": "ZdfrL6gIs1Pn",
      "metadata": {
        "id": "ZdfrL6gIs1Pn"
      },
      "outputs": [
        {
          "name": "stdout",
          "output_type": "stream",
          "text": [
            "'Москва', 'Санкт-Петербург', 'Новосибирск', 'Екатеринбург', 'Казань', 'Нижний Новгород', 'Красноярск', 'Челябинск', 'Самара', 'Уфа', 'Ростов-на-Дону', 'Краснодар', 'Омск', 'Воронеж', 'Пермь', 'Волгоград'\n"
          ]
        }
      ],
      "source": [
        "# код для получения списка городов-милионников\n",
        "# Импортируем библиотеку requests\n",
        "import requests\n",
        "# Импортируем библиотеку BeautifulSoup\n",
        "from bs4 import BeautifulSoup\n",
        "lst_city_million = []\n",
        "url = 'https://ru.wikipedia.org/wiki/%D0%93%D0%BE%D1%80%D0%BE%D0%B4%D0%B0-%D0%BC%D0%B8%D0%BB%D0%BB%D0%B8%D0%BE%D0%BD%D0%B5%D1%80%D1%8B_%D0%A0%D0%BE%D1%81%D1%81%D0%B8%D0%B8' # Определяем адрес страницы\n",
        "# Выполняем GET-запрос, содержимое ответа присваивается переменной response\n",
        "response = requests.get(url, headers={'User-Agent': 'Mozilla/5.0'}) \n",
        "# Создаём объект BeautifulSoup, указывая html-парсер\n",
        "page = BeautifulSoup(response.text, 'html.parser') \n",
        "# Получаем контейнер table c классом standard sortable\n",
        "table = page.find('table', class_='standard sortable')\n",
        "# Получаем строки таблицы \n",
        "lst_tr = table.find_all('tr')\n",
        "# Циклом идем по кажой строке таблицы\n",
        "for tr_i in range(len(lst_tr)):\n",
        "    # Получаем список ячеек текущей строки\n",
        "    lst_td=lst_tr[tr_i].find_all('td')\n",
        "    # Циклом идем по каждой ячейке в текущей строке\n",
        "    for td_i in range(len(lst_td)):\n",
        "        a = lst_td[td_i].find('a')\n",
        "        # Если в ячейке есть ссылка, то это значит, что ячейка содержит название города\n",
        "        if a is not None:\n",
        "            # Добавляем название города в спискок \n",
        "            lst_city_million.append(a.text)\n",
        "# Выводим на экран полученный список городов-милионников\n",
        "print(str(lst_city_million)[1:-1])"
      ]
    },
    {
      "cell_type": "code",
      "execution_count": 295,
      "id": "5a0e32a4-e68a-4365-8a39-2fe24c542c36",
      "metadata": {
        "id": "5a0e32a4-e68a-4365-8a39-2fe24c542c36"
      },
      "outputs": [],
      "source": [
        "# текст запроса\n",
        "query_5_7 = f'''\n",
        "    with cte as (\n",
        "        select \n",
        "            a.name, \n",
        "            count(v.id) cnt \n",
        "        from public.vacancies v \n",
        "        join public.employers e on e.id = v.employer_id and e.name = 'Яндекс' \n",
        "        join public.areas a on a.id = v.area_id and a.name in ({str(lst_city_million)[1:-1]}) \n",
        "        group by a.name\n",
        "        --order by count(v.id) desc\n",
        "        ) \n",
        "    select 'Total' as name, sum(cnt) from cte c \n",
        "    union all \n",
        "    select c.name, c.cnt from cte c\n",
        "    order by 2 desc\n",
        "    '''"
      ]
    },
    {
      "cell_type": "code",
      "execution_count": 296,
      "id": "ttPhiO1rsvPq",
      "metadata": {
        "id": "ttPhiO1rsvPq"
      },
      "outputs": [
        {
          "name": "stdout",
          "output_type": "stream",
          "text": [
            "               name    sum\n",
            "0             Total  485.0\n",
            "1            Москва   54.0\n",
            "2   Санкт-Петербург   42.0\n",
            "3      Екатеринбург   39.0\n",
            "4   Нижний Новгород   36.0\n",
            "5       Новосибирск   35.0\n",
            "6           Воронеж   32.0\n",
            "7         Краснодар   30.0\n",
            "8            Самара   26.0\n",
            "9               Уфа   26.0\n",
            "10            Пермь   25.0\n",
            "11           Казань   25.0\n",
            "12   Ростов-на-Дону   25.0\n",
            "13        Волгоград   24.0\n",
            "14       Красноярск   23.0\n",
            "15        Челябинск   22.0\n",
            "16             Омск   21.0\n"
          ]
        }
      ],
      "source": [
        "# результат запроса\n",
        "df = pd.read_sql_query(text(query_5_7), connection)\n",
        "print(df)"
      ]
    },
    {
      "attachments": {},
      "cell_type": "markdown",
      "id": "04966e40-3bc3-4dc8-9ba2-e80580ce3abc",
      "metadata": {
        "id": "04966e40-3bc3-4dc8-9ba2-e80580ce3abc"
      },
      "source": [
        "***"
      ]
    },
    {
      "attachments": {},
      "cell_type": "markdown",
      "id": "3889e877",
      "metadata": {},
      "source": [
        "*На первом месте по количеству вакансий находится компания Яндекс, а также данный работодатель находится на первом месте по количеству регионов, в которых он регистрирует свои вакансии, всего 1933 вакансий, из них 485 в 17 городах милиолнниках. От сюда можно сделать вывод, что Яндекс нанимает специалистов приемущественно на удаленную работу.*\n",
        "\n",
        "*В регионе Россия зарегистрированы 410 компаний, и ноль вакансий. Это говорит о том, что каждый их этих работодателей географичеки расположен во множестве субъектах РФ, при этом свои ванансии компании регистрируют в отдельных городах.  Например компания ИК СИБИНТЕК, имеющая структуру из множетсова георафических филиалов, зарегистрировавшая вакансии в 46 разных городах. Это делается для того чтобы, не регистрировать все отдельные географические подразделения.*\n",
        "\n",
        "*У 8419 работодателей не указана сфера деятельности, и это их упущение, т.к. при поиске вакансий по конкретным сферам деятельности данные работодатели не попадут в результат поиска. Скорее всего hr-специалисты не учли этот момент при регистрации своей компании на hh.ru. Остальные 15082 работодателя более ответсвенно отнеслись при регистрации на hh.ru и указали сферы своей деятельности, в примеру у 2ГИС их четыре: Производство мультимедиа, контента, редакторская деятельность, Консалтинговые услуги, Колл-центры, диспетчерские службы, Интернет-компания (поисковики, платежные системы, соц.сети, информационно-познавательные и развлекательные ресурсы, продвижение сайтов и прочее).* \n",
        "\n",
        "*3553 компании занимаются разработкой программного обеспечения, данная сфера деятельности имеет самую большую долю среди остальных. По всему видимому, разработчики ПО являются самыми востребованными специалистами на рынке труда.*"
      ]
    },
    {
      "attachments": {},
      "cell_type": "markdown",
      "id": "b1ef156a-efcb-49ce-bb23-90763e7f35b2",
      "metadata": {
        "id": "b1ef156a-efcb-49ce-bb23-90763e7f35b2",
        "tags": []
      },
      "source": [
        "# Юнит 6. Предметный анализ"
      ]
    },
    {
      "attachments": {},
      "cell_type": "markdown",
      "id": "b9cd50a0-992d-4988-8463-2b2b1c4629b4",
      "metadata": {
        "id": "b9cd50a0-992d-4988-8463-2b2b1c4629b4"
      },
      "source": [
        "1. Сколько вакансий имеет отношение к данным?\n",
        "\n",
        "Считаем, что вакансия имеет отношение к данным, если в её названии содержатся слова 'data' или 'данн'.\n",
        "\n",
        "*Подсказка: Обратите внимание, что названия вакансий могут быть написаны в любом регистре.* \n"
      ]
    },
    {
      "cell_type": "code",
      "execution_count": 275,
      "id": "54ab0e50-c0f1-47cc-a54b-bc5c8bc363f9",
      "metadata": {
        "id": "54ab0e50-c0f1-47cc-a54b-bc5c8bc363f9"
      },
      "outputs": [],
      "source": [
        "# текст запроса\n",
        "query_6_1= f'''\n",
        "    select \n",
        "        count(*)\n",
        "    from public.vacancies v\n",
        "    where lower(v.name) like ('%data%') or lower(v.name) like ('%данн%') \n",
        "    '''"
      ]
    },
    {
      "cell_type": "code",
      "execution_count": 276,
      "id": "9F1meAqsuUjd",
      "metadata": {
        "id": "9F1meAqsuUjd"
      },
      "outputs": [
        {
          "name": "stdout",
          "output_type": "stream",
          "text": [
            "   count\n",
            "0   1771\n"
          ]
        }
      ],
      "source": [
        "# результат запроса\n",
        "df = pd.read_sql_query(text(query_6_1), connection)\n",
        "print(df)"
      ]
    },
    {
      "attachments": {},
      "cell_type": "markdown",
      "id": "4dea20cb-a36b-474a-a0b9-e08e8e3857a5",
      "metadata": {
        "id": "4dea20cb-a36b-474a-a0b9-e08e8e3857a5"
      },
      "source": [
        "2. Сколько есть подходящих вакансий для начинающего дата-сайентиста? \n",
        "Будем считать вакансиями для дата-сайентистов такие, в названии которых есть хотя бы одно из следующих сочетаний:\n",
        "* 'data scientist'\n",
        "* 'data science'\n",
        "* 'исследователь данных'\n",
        "* 'ML' (здесь не нужно брать вакансии по HTML)\n",
        "* 'machine learning'\n",
        "* 'машинн%обучен%'\n",
        "\n",
        "** В следующих заданиях мы продолжим работать с вакансиями по этому условию.*\n",
        "\n",
        "Считаем вакансиями для специалистов уровня Junior следующие:\n",
        "* в названии есть слово 'junior' *или*\n",
        "* требуемый опыт — Нет опыта *или*\n",
        "* тип трудоустройства — Стажировка.\n",
        " "
      ]
    },
    {
      "cell_type": "code",
      "execution_count": 277,
      "id": "9c61b3c0-bb66-46c9-ae1e-81d3f5752b4a",
      "metadata": {
        "id": "9c61b3c0-bb66-46c9-ae1e-81d3f5752b4a"
      },
      "outputs": [],
      "source": [
        "# текст запроса\n",
        "query_6_2= f'''\n",
        "    select \n",
        "        count(*)\n",
        "    from public.vacancies v\n",
        "    where \n",
        "        (lower(v.name) like '%data scientist%' or\n",
        "        lower(v.name) like '%data science%' or\n",
        "        lower(v.name) like '%исследователь данных%' or\n",
        "        (v.name like '%ML%' and v.name not like '%HTML%') or\n",
        "        lower(v.name) like '%machine learning%' or\n",
        "        lower(v.name) like '%машинн%обучен%') and \n",
        "        (lower(v.name) like '%junior%' or\n",
        "        v.experience = 'Нет опыта' or\n",
        "        v.employment = 'Стажировка')\n",
        "    '''"
      ]
    },
    {
      "cell_type": "code",
      "execution_count": 278,
      "id": "ZNM-LLYuu1dj",
      "metadata": {
        "id": "ZNM-LLYuu1dj"
      },
      "outputs": [
        {
          "name": "stdout",
          "output_type": "stream",
          "text": [
            "   count\n",
            "0     51\n"
          ]
        }
      ],
      "source": [
        "# результат запроса\n",
        "df = pd.read_sql_query(text(query_6_2), connection)\n",
        "print(df)"
      ]
    },
    {
      "attachments": {},
      "cell_type": "markdown",
      "id": "eedceb80-c5ca-480e-b27a-278dfb8b4438",
      "metadata": {
        "id": "eedceb80-c5ca-480e-b27a-278dfb8b4438"
      },
      "source": [
        "3. Сколько есть вакансий для DS, в которых в качестве ключевого навыка указан SQL или postgres?\n",
        "\n",
        "** Критерии для отнесения вакансии к DS указаны в предыдущем задании.*"
      ]
    },
    {
      "cell_type": "code",
      "execution_count": 279,
      "id": "69621713-0cc5-4f1b-a1d7-bb144fa6148c",
      "metadata": {
        "id": "69621713-0cc5-4f1b-a1d7-bb144fa6148c"
      },
      "outputs": [],
      "source": [
        "# текст запроса\n",
        "query_6_3= f'''\n",
        "    select \n",
        "        count(*)\n",
        "    from public.vacancies v\n",
        "    where \n",
        "        (lower(v.key_skills) like '%sql%' or lower(v.key_skills) like '%postgres%') and\n",
        "        (lower(v.name) like '%data scientist%' or\n",
        "        lower(v.name) like '%data science%' or\n",
        "        lower(v.name) like '%исследователь данных%' or\n",
        "        (v.name like '%ML%' and v.name not like '%HTML%') or\n",
        "        lower(v.name) like '%machine learning%' or\n",
        "        lower(v.name) like '%машинн%обучен%')\n",
        "    '''"
      ]
    },
    {
      "cell_type": "code",
      "execution_count": 280,
      "id": "alA8WEAAvGdf",
      "metadata": {
        "id": "alA8WEAAvGdf"
      },
      "outputs": [
        {
          "name": "stdout",
          "output_type": "stream",
          "text": [
            "   count\n",
            "0    201\n"
          ]
        }
      ],
      "source": [
        "# результат запроса\n",
        "df = pd.read_sql_query(text(query_6_3), connection)\n",
        "print(df)"
      ]
    },
    {
      "attachments": {},
      "cell_type": "markdown",
      "id": "1be1e9c6-37cf-4a5f-bfeb-04cab799dc80",
      "metadata": {
        "id": "1be1e9c6-37cf-4a5f-bfeb-04cab799dc80"
      },
      "source": [
        "4. Проверьте, насколько популярен Python в требованиях работодателей к DS.Для этого вычислите количество вакансий, в которых в качестве ключевого навыка указан Python.\n",
        "\n",
        "** Это можно сделать помощью запроса, аналогичного предыдущему.*"
      ]
    },
    {
      "cell_type": "code",
      "execution_count": 281,
      "id": "0036a355-9ccf-4564-8b01-73d8194297e7",
      "metadata": {
        "id": "0036a355-9ccf-4564-8b01-73d8194297e7"
      },
      "outputs": [],
      "source": [
        "# текст запроса\n",
        "query_6_4= f'''\n",
        "    select \n",
        "        count(*)\n",
        "    from public.vacancies v\n",
        "    where \n",
        "        lower(v.key_skills) like '%python%' and\n",
        "        (lower(v.name) like '%data scientist%' or\n",
        "        lower(v.name) like '%data science%' or\n",
        "        lower(v.name) like '%исследователь данных%' or\n",
        "        (v.name like '%ML%' and v.name not like '%HTML%') or\n",
        "        lower(v.name) like '%machine learning%' or\n",
        "        lower(v.name) like '%машинн%обучен%')\n",
        "    '''"
      ]
    },
    {
      "cell_type": "code",
      "execution_count": 282,
      "id": "1i-5WyucvQ6v",
      "metadata": {
        "id": "1i-5WyucvQ6v"
      },
      "outputs": [
        {
          "name": "stdout",
          "output_type": "stream",
          "text": [
            "   count\n",
            "0    351\n"
          ]
        }
      ],
      "source": [
        "# результат запроса\n",
        "df = pd.read_sql_query(text(query_6_4), connection)\n",
        "print(df)"
      ]
    },
    {
      "attachments": {},
      "cell_type": "markdown",
      "id": "ec3c8db7-fa21-4a41-a994-1af63742a642",
      "metadata": {
        "id": "ec3c8db7-fa21-4a41-a994-1af63742a642"
      },
      "source": [
        "5. Сколько ключевых навыков в среднем указывают в вакансиях для DS?\n",
        "Ответ округлите до двух знаков после точки-разделителя."
      ]
    },
    {
      "cell_type": "code",
      "execution_count": 283,
      "id": "949132bc-d5b6-4611-8218-0b9a504d74f4",
      "metadata": {
        "id": "949132bc-d5b6-4611-8218-0b9a504d74f4"
      },
      "outputs": [],
      "source": [
        "# текст запроса\n",
        "query_6_5= f'''\n",
        "    select \n",
        "        round(avg(length(v.key_skills) - length(replace(v.key_skills, CHR(9), '')) + 1), 2)\n",
        "    from public.vacancies v\n",
        "    where \n",
        "        (lower(v.name) like '%data scientist%' or\n",
        "        lower(v.name) like '%data  science%' or\n",
        "        lower(v.name) like '%исследователь данных%' or\n",
        "        (v.name like '%ML%' and v.name not like '%HTML%') or\n",
        "        lower(v.name) like '%machine learning%' or\n",
        "        lower(v.name) like '%машинн%обучен%')\n",
        "    '''"
      ]
    },
    {
      "cell_type": "code",
      "execution_count": 284,
      "id": "a3V24Tvmviqk",
      "metadata": {
        "id": "a3V24Tvmviqk"
      },
      "outputs": [
        {
          "name": "stdout",
          "output_type": "stream",
          "text": [
            "   round\n",
            "0   6.43\n"
          ]
        }
      ],
      "source": [
        "# результат запроса\n",
        "df = pd.read_sql_query(text(query_6_5), connection)\n",
        "print(df)"
      ]
    },
    {
      "attachments": {},
      "cell_type": "markdown",
      "id": "1041c17a-ca8f-4543-a0ca-32778914fb00",
      "metadata": {
        "id": "1041c17a-ca8f-4543-a0ca-32778914fb00"
      },
      "source": [
        "6. Напишите запрос, позволяющий вычислить, какую зарплату для DS в **среднем** указывают для каждого типа требуемого опыта (уникальное значение из поля *experience*). \n",
        "\n",
        "При решении задачи примите во внимание следующее:\n",
        "1. Рассматриваем только вакансии, у которых заполнено хотя бы одно из двух полей с зарплатой.\n",
        "2. Если заполнены оба поля с зарплатой, то считаем зарплату по каждой вакансии как сумму двух полей, делённую на 2. Если заполнено только одно из полей, то его и считаем зарплатой по вакансии.\n",
        "3. Если в расчётах участвует null, в результате он тоже даст null (посмотрите, что возвращает запрос select 1 + null). Чтобы избежать этой ситуацию, мы воспользуемся функцией [coalesce](https://postgrespro.ru/docs/postgresql/9.5/functions-conditional#functions-coalesce-nvl-ifnull), которая заменит null на значение, которое мы передадим. Например, посмотрите, что возвращает запрос `select 1 + coalesce(null, 0)`\n",
        "\n",
        "Выясните, на какую зарплату в среднем может рассчитывать дата-сайентист с опытом работы от 3 до 6 лет. Результат округлите до целого числа. "
      ]
    },
    {
      "cell_type": "code",
      "execution_count": 285,
      "id": "6a743d39-5204-48d3-8271-b9f88e68d40e",
      "metadata": {
        "id": "6a743d39-5204-48d3-8271-b9f88e68d40e"
      },
      "outputs": [],
      "source": [
        "# текст запроса\n",
        "query_6_6= f'''\n",
        "    select \n",
        "        v.experience,\n",
        "        round(avg(case when salary_from is null then salary_to\n",
        "             when salary_to is null then salary_from\n",
        "            else (salary_from + salary_to) / 2\n",
        "        end)) avg_salary\n",
        "    from public.vacancies v\n",
        "    where \n",
        "        (v.salary_from is not null or v.salary_to is not null) and\n",
        "        (lower(v.name) like '%data scientist%' or\n",
        "        lower(v.name) like '%data science%' or\n",
        "        lower(v.name) like '%исследователь данных%' or\n",
        "        (v.name like '%ML%' and v.name not like '%HTML%') or\n",
        "        lower(v.name) like '%machine learning%' or\n",
        "        lower(v.name) like '%машинн%обучен%')\n",
        "    group by v.experience\n",
        "    '''"
      ]
    },
    {
      "cell_type": "code",
      "execution_count": 286,
      "id": "aRIJ0mZEwU1_",
      "metadata": {
        "id": "aRIJ0mZEwU1_"
      },
      "outputs": [
        {
          "name": "stdout",
          "output_type": "stream",
          "text": [
            "           experience  avg_salary\n",
            "0           Нет опыта     74643.0\n",
            "1  От 1 года до 3 лет    139675.0\n",
            "2       От 3 до 6 лет    243115.0\n"
          ]
        }
      ],
      "source": [
        "# результат запроса\n",
        "df = pd.read_sql_query(text(query_6_6), connection)\n",
        "print(df)"
      ]
    },
    {
      "attachments": {},
      "cell_type": "markdown",
      "id": "6a7892b4-4113-4746-adce-18aa2844f18e",
      "metadata": {
        "id": "6a7892b4-4113-4746-adce-18aa2844f18e"
      },
      "source": [
        "***"
      ]
    },
    {
      "attachments": {},
      "cell_type": "markdown",
      "id": "56dc8f38",
      "metadata": {},
      "source": [
        "*Предметный анализ показал, что 1771 вакансия имеет отношение к данным, это 3,5% от общего количества вакансий. Но к ним относятся не только DS, но и другие специальности, например аналитики данных, дата-инженеры, администраторы баз данных и прочие. Поэтому данную цифру мы не будем брать во внимание, т.к. нас итерисуюет только DS.*\n",
        "\n",
        "*Найдена 51 вакансия для начинающих DS, говорит о том, у джунов есть реальные шансы устроиться на работу, но очевидно, что конкуренция большая, т.к. слишком много выпустников онлайн школ по специальности DS. Найдена 201 вакансия с ключевым навыком SQL или postgres, и 351 с требованием знания Python. Это меньше чем вакансий связанных с DS, и это странно, т.к. оба этих интрумента входят в состав основных, скорее всего это говорит о том, что многие работодатели регистрируя вакансии DS подразумевают, что знание SQL и Python, это само самбой разумеющееся. К примеру вакансия Team Lead Data Science, с ключевыми навыками: Data Science Управление командой, или вакансия Senior Data Scientist, с ключевыми навыками: Знание стека DS Знание теории машинного обучения, теории вероятностей, основ математического анализа Основы алгоритмов и структур данных. Судя по назнанию данные вакансии относятся к опытным специалистам. И знание SQL и Python включается в состав стека DS, или даже не обсуждается.*\n",
        "\n",
        "*В среднем в вакансиях для DS указано 6,43 ключевых навыка. Это говорит, о том что специалист DS должен знать, не только SQL и Python, но и моножество не менее важных навыков, таких как Machine learning, Git, математическая статистика и прочее, для того чтобы делать другие выводы, необходимо анализировать глубже.*\n",
        "*Средняя зарплата специалиста DS с опытом работы от 3 до 6 месяцев составляет 243115 рублей. Это очень хорошая зарплата учитывая, что средняя зарплата в России по итогам января — марта 2023 года составила 53096 рублей в месяц* "
      ]
    },
    {
      "attachments": {},
      "cell_type": "markdown",
      "id": "c0ED6fh7wiBT",
      "metadata": {
        "id": "c0ED6fh7wiBT"
      },
      "source": [
        "# Общий вывод по проекту"
      ]
    },
    {
      "attachments": {},
      "cell_type": "markdown",
      "id": "f8e04e24",
      "metadata": {},
      "source": [
        "1. Сделаем запрос показывающий топ-10 сфер деятельности, в которых зарегистрированы вакансии DS."
      ]
    },
    {
      "cell_type": "code",
      "execution_count": 287,
      "id": "h9B3BL-wwj18",
      "metadata": {
        "id": "h9B3BL-wwj18"
      },
      "outputs": [],
      "source": [
        "# текст запроса\n",
        "query_total_1= f'''\n",
        "    select\n",
        "        i.name,\n",
        "        count(v.id)\n",
        "    from public.vacancies v\n",
        "    join public.employers e on e.id = v.employer_id\n",
        "    join public.employers_industries ei on ei.employer_id = e.id\n",
        "    join public.industries i on i.id = ei.industry_id\n",
        "    where\n",
        "        (lower(v.name) like '%data scientist%' or\n",
        "        lower(v.name) like '%data science%' or\n",
        "        lower(v.name) like '%исследователь данных%' or\n",
        "        (v.name like '%ML%' and v.name not like '%HTML%') or\n",
        "        lower(v.name) like '%machine learning%' or\n",
        "        lower(v.name) like '%машинн%обучен%')    \n",
        "    group by i.name\n",
        "    order by count(v.id) desc\n",
        "    limit 10\n",
        "    '''"
      ]
    },
    {
      "cell_type": "code",
      "execution_count": 288,
      "id": "a5cf8390",
      "metadata": {},
      "outputs": [
        {
          "name": "stdout",
          "output_type": "stream",
          "text": [
            "                                                name  count\n",
            "0                Разработка программного обеспечения    148\n",
            "1  Системная интеграция,  автоматизации технологи...    139\n",
            "2                                               Банк     92\n",
            "3  Интернет-компания (поисковики, платежные систе...     79\n",
            "4                                    Мобильная связь     23\n",
            "5  Маркетинговые, рекламные, BTL, дизайнерские, E...     22\n",
            "6  Управляющая, инвестиционная компания (управлен...     21\n",
            "7                              Консалтинговые услуги     16\n",
            "8                                Фиксированная связь     13\n",
            "9  Научно-исследовательская, научная, академическ...      9\n"
          ]
        }
      ],
      "source": [
        "# результат запроса\n",
        "df = pd.read_sql_query(text(query_total_1), connection)\n",
        "print(df)"
      ]
    },
    {
      "attachments": {},
      "cell_type": "markdown",
      "id": "0ff4e28b",
      "metadata": {},
      "source": [
        "2. Сделаем запрос показывающий топ-10 городов по количеству вакансий DS."
      ]
    },
    {
      "cell_type": "code",
      "execution_count": 289,
      "id": "37f6bb31",
      "metadata": {},
      "outputs": [],
      "source": [
        "# текст запроса\n",
        "query_total_2= f'''\n",
        "    select\n",
        "        a.name,\n",
        "        count(v.id)\n",
        "    from public.vacancies v\n",
        "    join public.areas a on a.id = v.area_id\n",
        "    where\n",
        "        (lower(v.name) like '%data scientist%' or\n",
        "        lower(v.name) like '%data science%' or\n",
        "        lower(v.name) like '%исследователь данных%' or\n",
        "        (v.name like '%ML%' and v.name not like '%HTML%') or\n",
        "        lower(v.name) like '%machine learning%' or\n",
        "        lower(v.name) like '%машинн%обучен%')\n",
        "    group by a.name\n",
        "    order by count(v.id) desc \n",
        "    limit 10\n",
        "    '''"
      ]
    },
    {
      "cell_type": "code",
      "execution_count": 290,
      "id": "3d650ba4",
      "metadata": {},
      "outputs": [
        {
          "name": "stdout",
          "output_type": "stream",
          "text": [
            "              name  count\n",
            "0           Москва    217\n",
            "1  Санкт-Петербург     64\n",
            "2      Новосибирск     23\n",
            "3  Нижний Новгород     20\n",
            "4           Казань     16\n",
            "5           Алматы     16\n",
            "6            Минск      9\n",
            "7            Томск      8\n",
            "8     Екатеринбург      7\n",
            "9          Армения      6\n"
          ]
        }
      ],
      "source": [
        "# результат запроса\n",
        "df = pd.read_sql_query(text(query_total_2), connection)\n",
        "print(df)"
      ]
    },
    {
      "attachments": {},
      "cell_type": "markdown",
      "id": "bf5df832",
      "metadata": {},
      "source": [
        "3. Сделаем запрос показывающий топ-10 ключевых навыков, которые указаны вакансиях DS."
      ]
    },
    {
      "cell_type": "code",
      "execution_count": 291,
      "id": "c7bbfeed",
      "metadata": {},
      "outputs": [],
      "source": [
        "# текст запроса\n",
        "query_total_3= f'''\n",
        "    SELECT ks key_skills, count(v.id) FROM public.vacancies v, regexp_split_to_table(lower(v.key_skills), chr(9)) ks\n",
        "        where \n",
        "            (lower(v.name) like '%data scientist%' or\n",
        "            lower(v.name) like '%data  science%' or\n",
        "            lower(v.name) like '%исследователь данных%' or\n",
        "            (v.name like '%ML%' and v.name not like '%HTML%') or\n",
        "            lower(v.name) like '%machine learning%' or\n",
        "            lower(v.name) like '%машинн%обучен%')\n",
        "    group by ks\n",
        "    order by count(v.id) desc\n",
        "    limit 10\n",
        "    '''"
      ]
    },
    {
      "cell_type": "code",
      "execution_count": 292,
      "id": "f2637929",
      "metadata": {},
      "outputs": [
        {
          "name": "stdout",
          "output_type": "stream",
          "text": [
            "                  key_skills  count\n",
            "0                     python    323\n",
            "1                        sql    175\n",
            "2           machine learning    133\n",
            "3                        git     64\n",
            "4                    pytorch     61\n",
            "5  математическая статистика     58\n",
            "6                     pandas     52\n",
            "7              data analysis     50\n",
            "8               data science     50\n",
            "9                         ml     45\n"
          ]
        }
      ],
      "source": [
        "# результат запроса\n",
        "df = pd.read_sql_query(text(query_total_3), connection)\n",
        "print(df)"
      ]
    },
    {
      "attachments": {},
      "cell_type": "markdown",
      "id": "57409a88",
      "metadata": {},
      "source": [
        "4. Сделаем запрос показывающий распределение графиков работы по количеству вакансий DS."
      ]
    },
    {
      "cell_type": "code",
      "execution_count": 293,
      "id": "9a6a9735",
      "metadata": {},
      "outputs": [],
      "source": [
        "# текст запроса\n",
        "query_total_5= f'''\n",
        "    SELECT schedule, count(v.id) \n",
        "    FROM public.vacancies v\n",
        "        where \n",
        "            (lower(v.name) like '%data scientist%' or\n",
        "            lower(v.name) like '%data  science%' or\n",
        "            lower(v.name) like '%исследователь данных%' or\n",
        "            (v.name like '%ML%' and v.name not like '%HTML%') or\n",
        "            lower(v.name) like '%machine learning%' or\n",
        "            lower(v.name) like '%машинн%обучен%')\n",
        "    group by schedule\n",
        "    order by count(v.id) desc\n",
        "    '''"
      ]
    },
    {
      "cell_type": "code",
      "execution_count": 294,
      "id": "6985fed8",
      "metadata": {},
      "outputs": [
        {
          "name": "stdout",
          "output_type": "stream",
          "text": [
            "           schedule  count\n",
            "0       Полный день    293\n",
            "1  Удаленная работа    111\n",
            "2     Гибкий график     42\n"
          ]
        }
      ],
      "source": [
        "# результат запроса\n",
        "df = pd.read_sql_query(text(query_total_5), connection)\n",
        "print(df)"
      ]
    },
    {
      "attachments": {},
      "cell_type": "markdown",
      "id": "e3495bfe",
      "metadata": {},
      "source": [
        "*Самой распространенной сферой деятельности, в которой востребованы специалисты DS является Разработка программного обеспечения. И это логично, специалисты DS занимаются разработкой скриптов Python и SQL для выгрузки и подготовки данных к анализу, разрабатывают модели машинного обучения, все это относится к разработке. Вероятно компании разработчики ПО предлагают готовые типовые решения в области DS для интернет магазинов, операторов связи, банков и прочих коммерческих структур, обладающих BigData, выполняют индивидуальные разработки под заказ.*\n",
        "\n",
        "*В Москве наиболее всего востребованы специалисты DS, во первых это самый большой город, и здесь больше всего работодателей, во вторых, услуги DS нужды прежде всего для крупных структур собирающих большие объемы данных, а такие структуры наиболее всего сосредаточены в крупных городах.*\n",
        "\n",
        "*Как уже говорилось выше, область DS не ограничивается Python и SQL, это самые основные навыки, за ними идут, ML, Git, Pythorch (фреймворк Python для ML), математическая статистика, анализ данных, Pandas.*\n",
        "\n",
        "*Найдено 111 вакансий с возможностью удаленной работы. В свете последних событий связанных с COVID, удаленная работа набирает популярность. В данном режиме работы множество плюсов как для работодателя так и для работника.*"
      ]
    }
  ],
  "metadata": {
    "colab": {
      "collapsed_sections": [
        "8d62a9f3-f64e-4fe7-bdac-c4dffa16155e"
      ],
      "provenance": []
    },
    "kernelspec": {
      "display_name": "Python 3 (ipykernel)",
      "language": "python",
      "name": "python3"
    },
    "language_info": {
      "codemirror_mode": {
        "name": "ipython",
        "version": 3
      },
      "file_extension": ".py",
      "mimetype": "text/x-python",
      "name": "python",
      "nbconvert_exporter": "python",
      "pygments_lexer": "ipython3",
      "version": "3.10.10"
    }
  },
  "nbformat": 4,
  "nbformat_minor": 5
}
