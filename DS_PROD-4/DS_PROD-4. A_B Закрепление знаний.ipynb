{
 "cells": [
  {
   "cell_type": "markdown",
   "metadata": {},
   "source": [
    "## АНАЛИЗ ЭФФЕКТИВНОСТИ ДВУХ ВАРИАНТОВ ПОСАДОЧНОЙ СТРАНИЦЫ"
   ]
  },
  {
   "cell_type": "markdown",
   "metadata": {},
   "source": [
    "#### Туристическая фирма планирует запустить новую акцию, чтобы продать как можно больше туров. Команда разработала два варианта посадочной страницы официального сайта и провела A/B-тестирование. В результате эксперимента были собраны данные."
   ]
  },
  {
   "cell_type": "markdown",
   "metadata": {},
   "source": [
    "#### Предстоит решить настоящую бизнес-задачу: проанализировать эффективность обоих вариантов посадочной страницы сразу по двум критериям — конверсии покупки и ежедневному среднему чеку.\n",
    "\n",
    "#### Необходимо убедиться, что A/B-тестирование было проведено корректно, проверить факт стабилизации метрик и обоснованно ответить на ключевой вопрос турагентства: какой вариант посадочной страницы более предпочтителен по метрикам конверсии и ежедневного среднего чека?"
   ]
  },
  {
   "cell_type": "markdown",
   "metadata": {},
   "source": [
    "#### Импортируем необходимые библиотеки и функции"
   ]
  },
  {
   "cell_type": "code",
   "execution_count": 215,
   "metadata": {},
   "outputs": [],
   "source": [
    "import pandas as pd\n",
    "import seaborn as sns\n",
    "import matplotlib.pyplot as plt\n",
    "from statsmodels.stats.proportion import proportions_ztest\n",
    "from scipy.stats import shapiro\n",
    "from scipy.stats import ttest_ind\n",
    "from scipy.stats import norm\n",
    "from scipy.stats import t"
   ]
  },
  {
   "cell_type": "markdown",
   "metadata": {},
   "source": [
    "#### Считываем данные из файла csv"
   ]
  },
  {
   "cell_type": "code",
   "execution_count": 177,
   "metadata": {},
   "outputs": [
    {
     "data": {
      "text/html": [
       "<div>\n",
       "<style scoped>\n",
       "    .dataframe tbody tr th:only-of-type {\n",
       "        vertical-align: middle;\n",
       "    }\n",
       "\n",
       "    .dataframe tbody tr th {\n",
       "        vertical-align: top;\n",
       "    }\n",
       "\n",
       "    .dataframe thead th {\n",
       "        text-align: right;\n",
       "    }\n",
       "</style>\n",
       "<table border=\"1\" class=\"dataframe\">\n",
       "  <thead>\n",
       "    <tr style=\"text-align: right;\">\n",
       "      <th></th>\n",
       "      <th>user_id</th>\n",
       "      <th>date</th>\n",
       "      <th>group</th>\n",
       "      <th>purchase</th>\n",
       "      <th>price</th>\n",
       "    </tr>\n",
       "  </thead>\n",
       "  <tbody>\n",
       "    <tr>\n",
       "      <th>0</th>\n",
       "      <td>851104</td>\n",
       "      <td>2021-01-21</td>\n",
       "      <td>A</td>\n",
       "      <td>0</td>\n",
       "      <td>0</td>\n",
       "    </tr>\n",
       "    <tr>\n",
       "      <th>1</th>\n",
       "      <td>804228</td>\n",
       "      <td>2021-01-12</td>\n",
       "      <td>A</td>\n",
       "      <td>0</td>\n",
       "      <td>0</td>\n",
       "    </tr>\n",
       "    <tr>\n",
       "      <th>2</th>\n",
       "      <td>661590</td>\n",
       "      <td>2021-01-11</td>\n",
       "      <td>B</td>\n",
       "      <td>0</td>\n",
       "      <td>0</td>\n",
       "    </tr>\n",
       "    <tr>\n",
       "      <th>3</th>\n",
       "      <td>853541</td>\n",
       "      <td>2021-01-08</td>\n",
       "      <td>B</td>\n",
       "      <td>0</td>\n",
       "      <td>0</td>\n",
       "    </tr>\n",
       "    <tr>\n",
       "      <th>4</th>\n",
       "      <td>864975</td>\n",
       "      <td>2021-01-21</td>\n",
       "      <td>A</td>\n",
       "      <td>1</td>\n",
       "      <td>150000</td>\n",
       "    </tr>\n",
       "  </tbody>\n",
       "</table>\n",
       "</div>"
      ],
      "text/plain": [
       "   user_id        date group  purchase   price\n",
       "0   851104  2021-01-21     A         0       0\n",
       "1   804228  2021-01-12     A         0       0\n",
       "2   661590  2021-01-11     B         0       0\n",
       "3   853541  2021-01-08     B         0       0\n",
       "4   864975  2021-01-21     A         1  150000"
      ]
     },
     "execution_count": 177,
     "metadata": {},
     "output_type": "execute_result"
    }
   ],
   "source": [
    "data = pd.read_csv('ab_data_tourist.csv')\n",
    "data.head()"
   ]
  },
  {
   "cell_type": "markdown",
   "metadata": {},
   "source": [
    "### Анализ структуры данных и их предобработка:"
   ]
  },
  {
   "cell_type": "markdown",
   "metadata": {},
   "source": [
    "#### Исследуем структуру данных"
   ]
  },
  {
   "cell_type": "code",
   "execution_count": 178,
   "metadata": {},
   "outputs": [
    {
     "name": "stdout",
     "output_type": "stream",
     "text": [
      "<class 'pandas.core.frame.DataFrame'>\n",
      "RangeIndex: 294478 entries, 0 to 294477\n",
      "Data columns (total 5 columns):\n",
      " #   Column    Non-Null Count   Dtype \n",
      "---  ------    --------------   ----- \n",
      " 0   user_id   294478 non-null  int64 \n",
      " 1   date      294478 non-null  object\n",
      " 2   group     294478 non-null  object\n",
      " 3   purchase  294478 non-null  int64 \n",
      " 4   price     294478 non-null  int64 \n",
      "dtypes: int64(3), object(2)\n",
      "memory usage: 11.2+ MB\n"
     ]
    }
   ],
   "source": [
    "data.info()"
   ]
  },
  {
   "cell_type": "markdown",
   "metadata": {},
   "source": [
    "*Пропусков нет.* \n",
    "\n",
    "#### Преобразуем столбец: дата посещения сайта к временному типу данных."
   ]
  },
  {
   "cell_type": "code",
   "execution_count": 179,
   "metadata": {},
   "outputs": [],
   "source": [
    "data['date'] = pd.to_datetime(data['date'], format='%Y-%m-%d')"
   ]
  },
  {
   "cell_type": "markdown",
   "metadata": {},
   "source": [
    "#### Убедимся в том что длительность проведения A/B-тестирования в каждой из групп совпадают"
   ]
  },
  {
   "cell_type": "code",
   "execution_count": 180,
   "metadata": {},
   "outputs": [
    {
     "name": "stdout",
     "output_type": "stream",
     "text": [
      "Все даты посещения сайта группой А совпадают с группой В\n"
     ]
    }
   ],
   "source": [
    "# Получим даты проведения теста в группе А\n",
    "date_a = set(data[data['date']=='A'].date.values)\n",
    "# Получим даты проведения теста в группе В\n",
    "date_b = set(data[data['date']=='B'].date.values)\n",
    "# Убедимся, что все даты проведения теста в группах А и В совпадают\n",
    "if set(date_a).issubset(date_b):\n",
    "    print('Все даты посещения сайта группой А совпадают с группой В')\n",
    "else:\n",
    "    print('Не все даты посещения сайта группой А совпадают с группой В')\n"
   ]
  },
  {
   "cell_type": "markdown",
   "metadata": {},
   "source": [
    "#### Проверим, есть ли пользователи, которые в процессе A/B-теста попали в обе группы. Если да, исключим пользователей, оказавшихся в обеих группах."
   ]
  },
  {
   "cell_type": "code",
   "execution_count": 181,
   "metadata": {},
   "outputs": [
    {
     "name": "stdout",
     "output_type": "stream",
     "text": [
      "ОБщее количество пользователей оказавшихся в группах А и В: 290584\n",
      "Количество пользователей оказавшихся обеих группах: 1895\n",
      "Процент пользователей оказавшихся обеих группах: 0.65%\n",
      "Кол-во строк в выборке до исключения пользователей, оказавшихся в обеих группах: 294478\n",
      "Кол-во строк в выборке после исключения пользователей, оказавшихся в обеих группах: 290688\n"
     ]
    }
   ],
   "source": [
    "# Получим множество id пользователей группы А\n",
    "user_ids_a = set(data[data['group']=='A'].user_id.values)\n",
    "# Получим множество id пользователей группы В\n",
    "user_ids_b = set(data[data['group']=='B'].user_id.values)\n",
    "# Получим объединение множеств пользователей группы А и В\n",
    "user_ids_ab_union = set(user_ids_a).union(user_ids_b)\n",
    "len_user_ids_ab_union = len(user_ids_ab_union) \n",
    "print('ОБщее количество пользователей оказавшихся в группах А и В:', len_user_ids_ab_union)\n",
    "# Получим пересечение множеств пользователей группы А и В\n",
    "user_ids_ab_intersection = set(user_ids_a).intersection(user_ids_b)\n",
    "len_user_ids_ab_intersection = len(user_ids_ab_intersection)\n",
    "print('Количество пользователей оказавшихся обеих группах:', len_user_ids_ab_intersection)\n",
    "percentage_users_ids_ab_intersection = round((len_user_ids_ab_intersection / len_user_ids_ab_union) * 100, 2)\n",
    "print(f'Процент пользователей оказавшихся обеих группах: {percentage_users_ids_ab_intersection}%')\n",
    "# Получим выборку, в которой отсутствуют пользователи находящиеся в группах А и В\n",
    "data_claened = data[~data.user_id.isin(user_ids_ab)]\n",
    "print('Кол-во строк в выборке до исключения пользователей, оказавшихся в обеих группах:',\n",
    "         data.shape[0])\n",
    "print('Кол-во строк в выборке после исключения пользователей, оказавшихся в обеих группах:',\n",
    "         data_claened.shape[0])"
   ]
  },
  {
   "cell_type": "markdown",
   "metadata": {},
   "source": [
    "### Первичный анализ результатов A/B-тестирования:"
   ]
  },
  {
   "cell_type": "markdown",
   "metadata": {},
   "source": [
    "#### Рассчитаем вспомогательные показатели для контрольной и тестовой групп:\n",
    "\n",
    "- количество посещений сайта;\n",
    "- суммарное количество совершённых покупок;\n",
    "- сумма всех покупок."
   ]
  },
  {
   "cell_type": "code",
   "execution_count": 182,
   "metadata": {},
   "outputs": [
    {
     "data": {
      "text/html": [
       "<div>\n",
       "<style scoped>\n",
       "    .dataframe tbody tr th:only-of-type {\n",
       "        vertical-align: middle;\n",
       "    }\n",
       "\n",
       "    .dataframe tbody tr th {\n",
       "        vertical-align: top;\n",
       "    }\n",
       "\n",
       "    .dataframe thead th {\n",
       "        text-align: right;\n",
       "    }\n",
       "</style>\n",
       "<table border=\"1\" class=\"dataframe\">\n",
       "  <thead>\n",
       "    <tr style=\"text-align: right;\">\n",
       "      <th></th>\n",
       "      <th>group</th>\n",
       "      <th>users_count</th>\n",
       "      <th>number_purchases</th>\n",
       "      <th>sum_purchases</th>\n",
       "    </tr>\n",
       "  </thead>\n",
       "  <tbody>\n",
       "    <tr>\n",
       "      <th>0</th>\n",
       "      <td>A</td>\n",
       "      <td>145307</td>\n",
       "      <td>17487</td>\n",
       "      <td>1417780000</td>\n",
       "    </tr>\n",
       "    <tr>\n",
       "      <th>1</th>\n",
       "      <td>B</td>\n",
       "      <td>145381</td>\n",
       "      <td>17290</td>\n",
       "      <td>1533010000</td>\n",
       "    </tr>\n",
       "  </tbody>\n",
       "</table>\n",
       "</div>"
      ],
      "text/plain": [
       "  group  users_count  number_purchases  sum_purchases\n",
       "0     A       145307             17487     1417780000\n",
       "1     B       145381             17290     1533010000"
      ]
     },
     "execution_count": 182,
     "metadata": {},
     "output_type": "execute_result"
    }
   ],
   "source": [
    "grouped_data = data_claened.groupby(['group']).agg({\n",
    "    'user_id':'count',\n",
    "    'purchase':'sum',\n",
    "    'price':'sum',\n",
    "}).reset_index().rename(columns={   'user_id': 'users_count',\n",
    "                                    'purchase': 'number_purchases',\n",
    "                                    'price': 'sum_purchases'})\n",
    "grouped_data.head()"
   ]
  },
  {
   "cell_type": "markdown",
   "metadata": {},
   "source": [
    "*Количество посещений обоих вариантов посадочной страницы сопоставимо. Выборки сбалансированы.*"
   ]
  },
  {
   "cell_type": "markdown",
   "metadata": {},
   "source": [
    "#### В каждой из групп рассчитаем ключевые показатели:\n",
    "\n",
    "- конверсия;\n",
    "- средний чек."
   ]
  },
  {
   "cell_type": "code",
   "execution_count": 183,
   "metadata": {},
   "outputs": [
    {
     "data": {
      "text/html": [
       "<div>\n",
       "<style scoped>\n",
       "    .dataframe tbody tr th:only-of-type {\n",
       "        vertical-align: middle;\n",
       "    }\n",
       "\n",
       "    .dataframe tbody tr th {\n",
       "        vertical-align: top;\n",
       "    }\n",
       "\n",
       "    .dataframe thead th {\n",
       "        text-align: right;\n",
       "    }\n",
       "</style>\n",
       "<table border=\"1\" class=\"dataframe\">\n",
       "  <thead>\n",
       "    <tr style=\"text-align: right;\">\n",
       "      <th></th>\n",
       "      <th>group</th>\n",
       "      <th>users_count</th>\n",
       "      <th>number_purchases</th>\n",
       "      <th>sum_purchases</th>\n",
       "      <th>conversion</th>\n",
       "      <th>average_check</th>\n",
       "    </tr>\n",
       "  </thead>\n",
       "  <tbody>\n",
       "    <tr>\n",
       "      <th>0</th>\n",
       "      <td>A</td>\n",
       "      <td>145307</td>\n",
       "      <td>17487</td>\n",
       "      <td>1417780000</td>\n",
       "      <td>12.034520</td>\n",
       "      <td>81076.228055</td>\n",
       "    </tr>\n",
       "    <tr>\n",
       "      <th>1</th>\n",
       "      <td>B</td>\n",
       "      <td>145381</td>\n",
       "      <td>17290</td>\n",
       "      <td>1533010000</td>\n",
       "      <td>11.892888</td>\n",
       "      <td>88664.545980</td>\n",
       "    </tr>\n",
       "  </tbody>\n",
       "</table>\n",
       "</div>"
      ],
      "text/plain": [
       "  group  users_count  number_purchases  sum_purchases  conversion  \\\n",
       "0     A       145307             17487     1417780000   12.034520   \n",
       "1     B       145381             17290     1533010000   11.892888   \n",
       "\n",
       "   average_check  \n",
       "0   81076.228055  \n",
       "1   88664.545980  "
      ]
     },
     "execution_count": 183,
     "metadata": {},
     "output_type": "execute_result"
    }
   ],
   "source": [
    "# Рассчитаем конверсию для каждой группы\n",
    "grouped_data['conversion'] = grouped_data['number_purchases'] / grouped_data['users_count'] * 100\n",
    "# Рассчитаем средний чек для каждой группы\n",
    "grouped_data['average_check'] = grouped_data['sum_purchases'] / grouped_data['number_purchases']\n",
    "grouped_data.head()"
   ]
  },
  {
   "cell_type": "markdown",
   "metadata": {},
   "source": [
    "*Делая первичные выводы о результатах A/B-тестирования, можно сказать, что по конверсии, на первый взгляд, вариант А эффективнее варианта B, по среднему чеку, на первый взгляд, вариант B эффективнее варианта А.*"
   ]
  },
  {
   "cell_type": "markdown",
   "metadata": {},
   "source": [
    "#### Сравним варианты A/B по покупательской способности каждого из туров. Для этого построим сводную таблицу, которая покажет зависимость количества продаж от группы и цены тура."
   ]
  },
  {
   "cell_type": "code",
   "execution_count": 184,
   "metadata": {},
   "outputs": [
    {
     "data": {
      "text/html": [
       "<div>\n",
       "<style scoped>\n",
       "    .dataframe tbody tr th:only-of-type {\n",
       "        vertical-align: middle;\n",
       "    }\n",
       "\n",
       "    .dataframe tbody tr th {\n",
       "        vertical-align: top;\n",
       "    }\n",
       "\n",
       "    .dataframe thead th {\n",
       "        text-align: right;\n",
       "    }\n",
       "</style>\n",
       "<table border=\"1\" class=\"dataframe\">\n",
       "  <thead>\n",
       "    <tr style=\"text-align: right;\">\n",
       "      <th>price</th>\n",
       "      <th>10000</th>\n",
       "      <th>60000</th>\n",
       "      <th>100000</th>\n",
       "      <th>150000</th>\n",
       "      <th>200000</th>\n",
       "    </tr>\n",
       "    <tr>\n",
       "      <th>group</th>\n",
       "      <th></th>\n",
       "      <th></th>\n",
       "      <th></th>\n",
       "      <th></th>\n",
       "      <th></th>\n",
       "    </tr>\n",
       "  </thead>\n",
       "  <tbody>\n",
       "    <tr>\n",
       "      <th>A</th>\n",
       "      <td>5182</td>\n",
       "      <td>5271</td>\n",
       "      <td>1832</td>\n",
       "      <td>3478</td>\n",
       "      <td>1724</td>\n",
       "    </tr>\n",
       "    <tr>\n",
       "      <th>B</th>\n",
       "      <td>5201</td>\n",
       "      <td>1730</td>\n",
       "      <td>5227</td>\n",
       "      <td>3438</td>\n",
       "      <td>1694</td>\n",
       "    </tr>\n",
       "  </tbody>\n",
       "</table>\n",
       "</div>"
      ],
      "text/plain": [
       "price  10000   60000   100000  150000  200000\n",
       "group                                        \n",
       "A        5182    5271    1832    3478    1724\n",
       "B        5201    1730    5227    3438    1694"
      ]
     },
     "metadata": {},
     "output_type": "display_data"
    },
    {
     "data": {
      "image/png": "[encoded data removed]",
      "text/plain": [
       "<Figure size 640x480 with 2 Axes>"
      ]
     },
     "metadata": {},
     "output_type": "display_data"
    }
   ],
   "source": [
    "pivot_table = pd.pivot_table(data_claened[data_claened['price']>0], \n",
    "        values='purchase', index='group', columns='price', aggfunc='sum')\n",
    "display(pivot_table)\n",
    "sns.heatmap(pivot_table);"
   ]
  },
  {
   "cell_type": "markdown",
   "metadata": {},
   "source": [
    "*По турам в Турцию покупательская способность участников группы А выше, чем покупательская способность участников группы B. По турам в Тайланд покупательская способность участников группы В выше, чем покупательская способность участников группы А. По всем остальным турам покупательская способность участников групп А и В практически одинакова.*"
   ]
  },
  {
   "cell_type": "markdown",
   "metadata": {},
   "source": [
    "### Анализ данных на предмет стабилизации метрик"
   ]
  },
  {
   "cell_type": "markdown",
   "metadata": {},
   "source": [
    "#### Сгруппируем данные по дате и группе тестирования и построим таблицу с ежедневными данными результатов проведения A/B-тестирования. В каждой группе вычислим ежедневные показатели:\n",
    "\n",
    "- количество посещений страницы;\n",
    "- количество покупок;\n",
    "- сумму покупок.\n",
    "\n"
   ]
  },
  {
   "cell_type": "code",
   "execution_count": 185,
   "metadata": {},
   "outputs": [
    {
     "data": {
      "text/html": [
       "<div>\n",
       "<style scoped>\n",
       "    .dataframe tbody tr th:only-of-type {\n",
       "        vertical-align: middle;\n",
       "    }\n",
       "\n",
       "    .dataframe tbody tr th {\n",
       "        vertical-align: top;\n",
       "    }\n",
       "\n",
       "    .dataframe thead th {\n",
       "        text-align: right;\n",
       "    }\n",
       "</style>\n",
       "<table border=\"1\" class=\"dataframe\">\n",
       "  <thead>\n",
       "    <tr style=\"text-align: right;\">\n",
       "      <th></th>\n",
       "      <th>date</th>\n",
       "      <th>group</th>\n",
       "      <th>users_count</th>\n",
       "      <th>number_purchases</th>\n",
       "      <th>sum_purchases</th>\n",
       "    </tr>\n",
       "  </thead>\n",
       "  <tbody>\n",
       "    <tr>\n",
       "      <th>0</th>\n",
       "      <td>2021-01-02</td>\n",
       "      <td>A</td>\n",
       "      <td>2854</td>\n",
       "      <td>359</td>\n",
       "      <td>29410000</td>\n",
       "    </tr>\n",
       "    <tr>\n",
       "      <th>1</th>\n",
       "      <td>2021-01-02</td>\n",
       "      <td>B</td>\n",
       "      <td>2861</td>\n",
       "      <td>345</td>\n",
       "      <td>29660000</td>\n",
       "    </tr>\n",
       "    <tr>\n",
       "      <th>2</th>\n",
       "      <td>2021-01-03</td>\n",
       "      <td>A</td>\n",
       "      <td>6596</td>\n",
       "      <td>748</td>\n",
       "      <td>62000000</td>\n",
       "    </tr>\n",
       "    <tr>\n",
       "      <th>3</th>\n",
       "      <td>2021-01-03</td>\n",
       "      <td>B</td>\n",
       "      <td>6619</td>\n",
       "      <td>754</td>\n",
       "      <td>65960000</td>\n",
       "    </tr>\n",
       "    <tr>\n",
       "      <th>4</th>\n",
       "      <td>2021-01-04</td>\n",
       "      <td>A</td>\n",
       "      <td>6566</td>\n",
       "      <td>799</td>\n",
       "      <td>64250000</td>\n",
       "    </tr>\n",
       "  </tbody>\n",
       "</table>\n",
       "</div>"
      ],
      "text/plain": [
       "        date group  users_count  number_purchases  sum_purchases\n",
       "0 2021-01-02     A         2854               359       29410000\n",
       "1 2021-01-02     B         2861               345       29660000\n",
       "2 2021-01-03     A         6596               748       62000000\n",
       "3 2021-01-03     B         6619               754       65960000\n",
       "4 2021-01-04     A         6566               799       64250000"
      ]
     },
     "execution_count": 185,
     "metadata": {},
     "output_type": "execute_result"
    }
   ],
   "source": [
    "daily_data = data_claened.groupby(['date','group']).agg({\n",
    "    'user_id':'count',\n",
    "    'purchase':'sum',\n",
    "    'price':'sum',\n",
    "}).reset_index().rename(columns={   'user_id': 'users_count',\n",
    "                                    'purchase': 'number_purchases',\n",
    "                                    'price': 'sum_purchases'})\n",
    "daily_data.head()"
   ]
  },
  {
   "cell_type": "markdown",
   "metadata": {},
   "source": [
    "#### Добавим в таблицу информацию о ежедневной конверсии (ежедневное количество покупок / ежедневное количество посещений) в группе и о ежедневном среднем чеке (ежедневная сумма покупок / ежедневное количество покупок)."
   ]
  },
  {
   "cell_type": "code",
   "execution_count": 186,
   "metadata": {},
   "outputs": [
    {
     "data": {
      "text/html": [
       "<div>\n",
       "<style scoped>\n",
       "    .dataframe tbody tr th:only-of-type {\n",
       "        vertical-align: middle;\n",
       "    }\n",
       "\n",
       "    .dataframe tbody tr th {\n",
       "        vertical-align: top;\n",
       "    }\n",
       "\n",
       "    .dataframe thead th {\n",
       "        text-align: right;\n",
       "    }\n",
       "</style>\n",
       "<table border=\"1\" class=\"dataframe\">\n",
       "  <thead>\n",
       "    <tr style=\"text-align: right;\">\n",
       "      <th></th>\n",
       "      <th>date</th>\n",
       "      <th>group</th>\n",
       "      <th>users_count</th>\n",
       "      <th>number_purchases</th>\n",
       "      <th>sum_purchases</th>\n",
       "      <th>conversion</th>\n",
       "      <th>average_check</th>\n",
       "    </tr>\n",
       "  </thead>\n",
       "  <tbody>\n",
       "    <tr>\n",
       "      <th>0</th>\n",
       "      <td>2021-01-02</td>\n",
       "      <td>A</td>\n",
       "      <td>2854</td>\n",
       "      <td>359</td>\n",
       "      <td>29410000</td>\n",
       "      <td>12.578837</td>\n",
       "      <td>81922.005571</td>\n",
       "    </tr>\n",
       "    <tr>\n",
       "      <th>1</th>\n",
       "      <td>2021-01-02</td>\n",
       "      <td>B</td>\n",
       "      <td>2861</td>\n",
       "      <td>345</td>\n",
       "      <td>29660000</td>\n",
       "      <td>12.058721</td>\n",
       "      <td>85971.014493</td>\n",
       "    </tr>\n",
       "    <tr>\n",
       "      <th>2</th>\n",
       "      <td>2021-01-03</td>\n",
       "      <td>A</td>\n",
       "      <td>6596</td>\n",
       "      <td>748</td>\n",
       "      <td>62000000</td>\n",
       "      <td>11.340206</td>\n",
       "      <td>82887.700535</td>\n",
       "    </tr>\n",
       "    <tr>\n",
       "      <th>3</th>\n",
       "      <td>2021-01-03</td>\n",
       "      <td>B</td>\n",
       "      <td>6619</td>\n",
       "      <td>754</td>\n",
       "      <td>65960000</td>\n",
       "      <td>11.391449</td>\n",
       "      <td>87480.106101</td>\n",
       "    </tr>\n",
       "    <tr>\n",
       "      <th>4</th>\n",
       "      <td>2021-01-04</td>\n",
       "      <td>A</td>\n",
       "      <td>6566</td>\n",
       "      <td>799</td>\n",
       "      <td>64250000</td>\n",
       "      <td>12.168748</td>\n",
       "      <td>80413.016270</td>\n",
       "    </tr>\n",
       "  </tbody>\n",
       "</table>\n",
       "</div>"
      ],
      "text/plain": [
       "        date group  users_count  number_purchases  sum_purchases  conversion  \\\n",
       "0 2021-01-02     A         2854               359       29410000   12.578837   \n",
       "1 2021-01-02     B         2861               345       29660000   12.058721   \n",
       "2 2021-01-03     A         6596               748       62000000   11.340206   \n",
       "3 2021-01-03     B         6619               754       65960000   11.391449   \n",
       "4 2021-01-04     A         6566               799       64250000   12.168748   \n",
       "\n",
       "   average_check  \n",
       "0   81922.005571  \n",
       "1   85971.014493  \n",
       "2   82887.700535  \n",
       "3   87480.106101  \n",
       "4   80413.016270  "
      ]
     },
     "execution_count": 186,
     "metadata": {},
     "output_type": "execute_result"
    }
   ],
   "source": [
    "daily_data['conversion'] = daily_data['number_purchases'] / daily_data['users_count'] * 100\n",
    "daily_data['average_check'] = daily_data['sum_purchases'] / daily_data['number_purchases']\n",
    "daily_data.head()"
   ]
  },
  {
   "cell_type": "markdown",
   "metadata": {},
   "source": [
    "#### Рассчитаем кумулятивные показатели:\n",
    "\n",
    "- кумулятивное количество посещений страницы;\n",
    "- кумулятивное количество покупок;\n",
    "- кумулятивную сумму покупок."
   ]
  },
  {
   "cell_type": "code",
   "execution_count": 187,
   "metadata": {},
   "outputs": [
    {
     "data": {
      "text/html": [
       "<div>\n",
       "<style scoped>\n",
       "    .dataframe tbody tr th:only-of-type {\n",
       "        vertical-align: middle;\n",
       "    }\n",
       "\n",
       "    .dataframe tbody tr th {\n",
       "        vertical-align: top;\n",
       "    }\n",
       "\n",
       "    .dataframe thead th {\n",
       "        text-align: right;\n",
       "    }\n",
       "</style>\n",
       "<table border=\"1\" class=\"dataframe\">\n",
       "  <thead>\n",
       "    <tr style=\"text-align: right;\">\n",
       "      <th></th>\n",
       "      <th>date</th>\n",
       "      <th>group</th>\n",
       "      <th>cum_users_count</th>\n",
       "      <th>cum_number_purchases</th>\n",
       "      <th>cum_sum_purchases</th>\n",
       "    </tr>\n",
       "  </thead>\n",
       "  <tbody>\n",
       "    <tr>\n",
       "      <th>0</th>\n",
       "      <td>2021-01-02</td>\n",
       "      <td>A</td>\n",
       "      <td>2854</td>\n",
       "      <td>359</td>\n",
       "      <td>29410000</td>\n",
       "    </tr>\n",
       "    <tr>\n",
       "      <th>1</th>\n",
       "      <td>2021-01-02</td>\n",
       "      <td>B</td>\n",
       "      <td>2861</td>\n",
       "      <td>345</td>\n",
       "      <td>29660000</td>\n",
       "    </tr>\n",
       "    <tr>\n",
       "      <th>2</th>\n",
       "      <td>2021-01-03</td>\n",
       "      <td>A</td>\n",
       "      <td>9450</td>\n",
       "      <td>1107</td>\n",
       "      <td>91410000</td>\n",
       "    </tr>\n",
       "    <tr>\n",
       "      <th>3</th>\n",
       "      <td>2021-01-03</td>\n",
       "      <td>B</td>\n",
       "      <td>9480</td>\n",
       "      <td>1099</td>\n",
       "      <td>95620000</td>\n",
       "    </tr>\n",
       "    <tr>\n",
       "      <th>4</th>\n",
       "      <td>2021-01-04</td>\n",
       "      <td>A</td>\n",
       "      <td>16016</td>\n",
       "      <td>1906</td>\n",
       "      <td>155660000</td>\n",
       "    </tr>\n",
       "    <tr>\n",
       "      <th>5</th>\n",
       "      <td>2021-01-04</td>\n",
       "      <td>B</td>\n",
       "      <td>16016</td>\n",
       "      <td>1863</td>\n",
       "      <td>163650000</td>\n",
       "    </tr>\n",
       "  </tbody>\n",
       "</table>\n",
       "</div>"
      ],
      "text/plain": [
       "        date group  cum_users_count  cum_number_purchases  cum_sum_purchases\n",
       "0 2021-01-02     A             2854                   359           29410000\n",
       "1 2021-01-02     B             2861                   345           29660000\n",
       "2 2021-01-03     A             9450                  1107           91410000\n",
       "3 2021-01-03     B             9480                  1099           95620000\n",
       "4 2021-01-04     A            16016                  1906          155660000\n",
       "5 2021-01-04     B            16016                  1863          163650000"
      ]
     },
     "metadata": {},
     "output_type": "display_data"
    }
   ],
   "source": [
    "# вычисляем кумулятивную сумму количества посетителей\n",
    "daily_data['cum_users_count'] = daily_data.groupby(['group'])['users_count'].cumsum()\n",
    "# вычисляем кумулятивную сумму количества совершённых покупок\n",
    "daily_data['cum_number_purchases'] = daily_data.groupby(['group'])['number_purchases'].cumsum()\n",
    "# вычисляем кумулятивную сумму покупок\n",
    "daily_data['cum_sum_purchases'] = daily_data.groupby(['group'])['sum_purchases'].cumsum()\n",
    "display(daily_data[['date', 'group', 'cum_users_count', 'cum_number_purchases', 'cum_sum_purchases']].head(6))"
   ]
  },
  {
   "cell_type": "markdown",
   "metadata": {},
   "source": [
    "#### На основе полученных кумулятивных показателей вычислим кумулятивную конверсию и кумулятивный средний чек."
   ]
  },
  {
   "cell_type": "code",
   "execution_count": 188,
   "metadata": {},
   "outputs": [
    {
     "data": {
      "text/html": [
       "<div>\n",
       "<style scoped>\n",
       "    .dataframe tbody tr th:only-of-type {\n",
       "        vertical-align: middle;\n",
       "    }\n",
       "\n",
       "    .dataframe tbody tr th {\n",
       "        vertical-align: top;\n",
       "    }\n",
       "\n",
       "    .dataframe thead th {\n",
       "        text-align: right;\n",
       "    }\n",
       "</style>\n",
       "<table border=\"1\" class=\"dataframe\">\n",
       "  <thead>\n",
       "    <tr style=\"text-align: right;\">\n",
       "      <th></th>\n",
       "      <th>date</th>\n",
       "      <th>group</th>\n",
       "      <th>cum_conversion</th>\n",
       "      <th>cum_average_check</th>\n",
       "    </tr>\n",
       "  </thead>\n",
       "  <tbody>\n",
       "    <tr>\n",
       "      <th>0</th>\n",
       "      <td>2021-01-02</td>\n",
       "      <td>A</td>\n",
       "      <td>12.578837</td>\n",
       "      <td>10304.835319</td>\n",
       "    </tr>\n",
       "    <tr>\n",
       "      <th>1</th>\n",
       "      <td>2021-01-02</td>\n",
       "      <td>B</td>\n",
       "      <td>12.058721</td>\n",
       "      <td>10367.004544</td>\n",
       "    </tr>\n",
       "    <tr>\n",
       "      <th>2</th>\n",
       "      <td>2021-01-03</td>\n",
       "      <td>A</td>\n",
       "      <td>11.714286</td>\n",
       "      <td>9673.015873</td>\n",
       "    </tr>\n",
       "    <tr>\n",
       "      <th>3</th>\n",
       "      <td>2021-01-03</td>\n",
       "      <td>B</td>\n",
       "      <td>11.592827</td>\n",
       "      <td>10086.497890</td>\n",
       "    </tr>\n",
       "    <tr>\n",
       "      <th>4</th>\n",
       "      <td>2021-01-04</td>\n",
       "      <td>A</td>\n",
       "      <td>11.900599</td>\n",
       "      <td>9719.030969</td>\n",
       "    </tr>\n",
       "    <tr>\n",
       "      <th>5</th>\n",
       "      <td>2021-01-04</td>\n",
       "      <td>B</td>\n",
       "      <td>11.632118</td>\n",
       "      <td>10217.907093</td>\n",
       "    </tr>\n",
       "  </tbody>\n",
       "</table>\n",
       "</div>"
      ],
      "text/plain": [
       "        date group  cum_conversion  cum_average_check\n",
       "0 2021-01-02     A       12.578837       10304.835319\n",
       "1 2021-01-02     B       12.058721       10367.004544\n",
       "2 2021-01-03     A       11.714286        9673.015873\n",
       "3 2021-01-03     B       11.592827       10086.497890\n",
       "4 2021-01-04     A       11.900599        9719.030969\n",
       "5 2021-01-04     B       11.632118       10217.907093"
      ]
     },
     "metadata": {},
     "output_type": "display_data"
    }
   ],
   "source": [
    "daily_data['cum_conversion'] = daily_data['cum_number_purchases']/daily_data['cum_users_count'] * 100\n",
    "daily_data['cum_average_check'] = daily_data['cum_sum_purchases']/daily_data['cum_users_count']\n",
    "display(daily_data[['date', 'group', 'cum_conversion', 'cum_average_check']].head(6))"
   ]
  },
  {
   "cell_type": "code",
   "execution_count": 189,
   "metadata": {},
   "outputs": [],
   "source": [
    "import warnings # To suppress some warnings\n",
    " \n",
    "# Suppress the specific FutureWarning\n",
    "warnings.filterwarnings(\"ignore\", category=FutureWarning, module=\"seaborn\")"
   ]
  },
  {
   "cell_type": "markdown",
   "metadata": {},
   "source": [
    "#### Построим кумулятивные графики конверсии и среднего чека в каждой группе по дням."
   ]
  },
  {
   "cell_type": "code",
   "execution_count": 190,
   "metadata": {},
   "outputs": [
    {
     "data": {
      "image/png": "[encoded data removed]",
      "text/plain": [
       "<Figure size 800x400 with 1 Axes>"
      ]
     },
     "metadata": {},
     "output_type": "display_data"
    }
   ],
   "source": [
    "# создаём фигуру размером 8x4\n",
    "fig = plt.figure(figsize=(8, 4))\n",
    "# добавляем систему координат\n",
    "ax = fig.add_axes([1, 1, 1, 1])\n",
    "# строим lineplot для кумулятивной конверсии во времени в каждой группе\n",
    "sns.lineplot(x='date', y='cum_conversion', data=daily_data, hue='group', ax=ax)\n",
    "# задаём подпись к графику\n",
    "ax.set_title('График кумулятивной конверсии по дням')\n",
    "# задаём подпись к легенде\n",
    "plt.legend(title='Группа')\n",
    "# задаём подпись к оси абцисс\n",
    "ax.set_xlabel('Дата')\n",
    "# задаём подпись к оси ординат\n",
    "ax.set_ylabel('Кумулятивная конверсия')\n",
    "# задаём поворот меток на оси абсцисс\n",
    "ax.xaxis.set_tick_params(rotation = 45)\n",
    "# задаём отображение сетки\n",
    "ax.grid(True);"
   ]
  },
  {
   "cell_type": "code",
   "execution_count": 191,
   "metadata": {},
   "outputs": [
    {
     "data": {
      "image/png": "[encoded data removed]",
      "text/plain": [
       "<Figure size 800x400 with 1 Axes>"
      ]
     },
     "metadata": {},
     "output_type": "display_data"
    }
   ],
   "source": [
    "# создаём фигуру размером 8x4\n",
    "fig = plt.figure(figsize=(8, 4))\n",
    "# добавляем систему координат\n",
    "ax = fig.add_axes([1, 1, 1, 1])\n",
    "# строим lineplot для кумулятивной конверсии во времени в каждой группе\n",
    "sns.lineplot(x='date', y='cum_average_check', data=daily_data, hue='group', ax=ax)\n",
    "# задаём подпись к графику\n",
    "ax.set_title('График кумулятивного среднего чека по дням')\n",
    "# задаём подпись к легенде\n",
    "plt.legend(title='Группа')\n",
    "# задаём подпись к оси абцисс\n",
    "ax.set_xlabel('Дата')\n",
    "# задаём подпись к оси ординат\n",
    "ax.set_ylabel('Кумулятивный средний чек')\n",
    "# задаём поворот меток на оси абсцисс\n",
    "ax.xaxis.set_tick_params(rotation = 45)\n",
    "# задаём отображение сетки\n",
    "ax.grid(True);"
   ]
  },
  {
   "cell_type": "markdown",
   "metadata": {},
   "source": [
    "*На основании стабилизированных кумулятивных графиков конверсии и среднего чека мы можем сделать вывод, что длительность эксперимента была достаточной для того, чтобы судить о статистической значимости разности между показателями в группах. Назвать A/B-тест завершённым нельзя, необходимо провести статистические тесты.\n",
    "Соотношения кумулятивных показателей в каждой группе соответсвует перпичному результату А/В-тестирования, т.е. по конверсии, на первый взгляд, вариант А эффективнее варианта B, по среднему чеку, на первый взгляд, вариант B эффективнее варианта А.*"
   ]
  },
  {
   "cell_type": "markdown",
   "metadata": {},
   "source": [
    "### Статистический анализ результатов A/B-тестирования"
   ]
  },
  {
   "cell_type": "markdown",
   "metadata": {},
   "source": [
    "*Мы убедились, что A/B-тестирование было проведено корректно (в каждой группе собрано достаточно данных и длительность теста одинакова, группы сбалансированы и отсутствуют пересечения в группах). Фиксируем факт стабилизации метрик (метрики стабилизировались во времени, их кумулятивный вариант переходит в прямую на графиках). Визуально оценили интересующие нас метрики в каждой из групп, сделали первичные выводы. Теперь нам необходимо обоснованно подтвердить первичные выводы с помощью статистических тестов, т.е. ответить на вопрос: является ли разница между метриками групп статистически значимой? И тем самым ответить на ключевой вопрос турагентства: какой вариант посадочной страницы более предпочтителен по метрикам конверсии и ежедневного среднего чека?*"
   ]
  },
  {
   "cell_type": "markdown",
   "metadata": {},
   "source": [
    "#### Сформулируем статистические гипотезы, соответствующие поставленным бизнес-вопросам, и выберем статистический тест для их проверки."
   ]
  },
  {
   "cell_type": "markdown",
   "metadata": {},
   "source": [
    "*Мы видим, судя по первичному анализу, что показатели конверсии в обеих группах практически не отличаются, с небольшим перевесом в группе А. Поэтому мы просто подветдим с помощью статистического теста, что статистической разницы нет, сформулируем следующую двустороннюю гипотезу:* \n",
    "- *Нулевая гипотеза: конверсии в группах A и B равны*\n",
    "- *Альтернативная гипотеза: конверсии в группах A и B не равны.*"
   ]
  },
  {
   "cell_type": "markdown",
   "metadata": {},
   "source": [
    "*В нашем случае соблюдаются все условия проведения A/B-теста, таким образом для проверки статистической значимости разницы конверсий в группах будет достаточно использовать Z-тест для пропорций.*"
   ]
  },
  {
   "cell_type": "markdown",
   "metadata": {},
   "source": [
    "*Мы видим по графику кумулятивного среднего чека по дням, что данный показатель в определенной степени выше в группе В. Поэтому проверим гипотезу о том, что вариант В посадочной страницы более предпочтителен по метрике ежедневного среднего чека. Т.е. посадачная старинца из варианта В более привлекательна для посетителей,  следовательно, они купили больше туров. Уровень значимости равен 0.05. Сформируем левостороннюю гипотезу:*\n",
    "- *Нулевая гипотеза: распределение, лежащее в основе среднего чека в группе А, статистически больше либо равно распределению, лежащему в основе среднего чека в группе B*\n",
    "- *Альтернативная гипотеза: распределение, лежащее в основе среднего чека в группе А, статистически меньше распределения, лежащего в основе среднего чека в группе B.*"
   ]
  },
  {
   "cell_type": "markdown",
   "metadata": {},
   "source": [
    "*Итак, если распределение в обеих группах нормальное, а значит, мы можем воспользоваться T-тестом, если распределение не нормально, тогда придется применить U-тест, тобы сравнить средней чек в группах.*"
   ]
  },
  {
   "cell_type": "markdown",
   "metadata": {},
   "source": [
    "#### С помощью аппарата статистических тестов определим:\n",
    "\n",
    "- Есть ли статистическая разница между конверсиями в группах А и B?\n",
    "- Есть ли статистическая разница между ежедневными средними чеками в группах А и B?"
   ]
  },
  {
   "cell_type": "markdown",
   "metadata": {},
   "source": [
    "*Сначала подготовим данные к проведению статистического Z-теста для пропорций. Для этого нам нужно рассчитать количество пользователей, совершивших конверсию, и общее количество пользователей в каждой группе.*\n",
    "\n",
    "*Cгруппируем таблицу data по признаку группы и рассчитаем количество «успехов» и общее количество наблюдений для каждой группы.*"
   ]
  },
  {
   "cell_type": "code",
   "execution_count": 192,
   "metadata": {},
   "outputs": [
    {
     "data": {
      "text/html": [
       "<div>\n",
       "<style scoped>\n",
       "    .dataframe tbody tr th:only-of-type {\n",
       "        vertical-align: middle;\n",
       "    }\n",
       "\n",
       "    .dataframe tbody tr th {\n",
       "        vertical-align: top;\n",
       "    }\n",
       "\n",
       "    .dataframe thead th {\n",
       "        text-align: right;\n",
       "    }\n",
       "</style>\n",
       "<table border=\"1\" class=\"dataframe\">\n",
       "  <thead>\n",
       "    <tr style=\"text-align: right;\">\n",
       "      <th></th>\n",
       "      <th>sum</th>\n",
       "      <th>count</th>\n",
       "    </tr>\n",
       "    <tr>\n",
       "      <th>group</th>\n",
       "      <th></th>\n",
       "      <th></th>\n",
       "    </tr>\n",
       "  </thead>\n",
       "  <tbody>\n",
       "    <tr>\n",
       "      <th>A</th>\n",
       "      <td>17487</td>\n",
       "      <td>145307</td>\n",
       "    </tr>\n",
       "    <tr>\n",
       "      <th>B</th>\n",
       "      <td>17290</td>\n",
       "      <td>145381</td>\n",
       "    </tr>\n",
       "  </tbody>\n",
       "</table>\n",
       "</div>"
      ],
      "text/plain": [
       "         sum   count\n",
       "group               \n",
       "A      17487  145307\n",
       "B      17290  145381"
      ]
     },
     "metadata": {},
     "output_type": "display_data"
    }
   ],
   "source": [
    "converted_piv= data_claened.groupby('group')['purchase'].agg(\n",
    "    ['sum', 'count']\n",
    ")\n",
    "display(converted_piv)"
   ]
  },
  {
   "cell_type": "markdown",
   "metadata": {},
   "source": [
    "*Зададим уровень значимости и будем сравнивать полученное p-value с ним.*"
   ]
  },
  {
   "cell_type": "code",
   "execution_count": 193,
   "metadata": {},
   "outputs": [
    {
     "name": "stdout",
     "output_type": "stream",
     "text": [
      "p-value:  0.239\n",
      "У нас нет оснований отвергнуть нулевую гипотезу\n"
     ]
    }
   ],
   "source": [
    "alpha = 0.05 # уровень значимости\n",
    "# вычисляем значение p-value для Z-теста для пропорций\n",
    "_, p_value = proportions_ztest(\n",
    "    count=converted_piv['sum'], # число «успехов»\n",
    "    nobs=converted_piv['count'], # общее число наблюдений\n",
    "    alternative='two-sided' # двусторонняя альтернативная гипотеза\n",
    ")\n",
    "# выводим результат на экран\n",
    "print('p-value: ', round(p_value, 3))\n",
    "# сравниваем полученное p-value с уровнем значимости\n",
    "if (p_value <= alpha):\n",
    "    print(\"Отвергаем нулевую гипотезу в пользу альтернативной\")\n",
    "else:\n",
    "    print(\"У нас нет оснований отвергнуть нулевую гипотезу\")"
   ]
  },
  {
   "cell_type": "markdown",
   "metadata": {},
   "source": [
    "*Итак, мы получили p-value, которое больше, чем заданный уровень значимости 0.05, а значит, мы должны принять нулевую гипотезу о равенстве конверсий.*"
   ]
  },
  {
   "cell_type": "markdown",
   "metadata": {},
   "source": [
    "*Что это значит для нас и для бизнеса?*\n",
    "\n",
    "*Так как Z-тест для пропорций показал, что истинные значения конверсий в группах равны (с уровнем значимости 0.05), то для нас это значит, что альтернативная гипотеза не подтверждается статистически.*\n",
    "\n",
    "*Переводим на язык бизнеса: разницы между вариантами дизайна посадочной страницы нет — они одинаково эффективны по метрике конверсии.*\n"
   ]
  },
  {
   "cell_type": "markdown",
   "metadata": {},
   "source": [
    "*По предварительным подсчётам, средний чек в группе B выше, чем в группе A. Однако делать выводы ещё рано — необходимо определить статистическую значимость полученных результатов.*"
   ]
  },
  {
   "cell_type": "markdown",
   "metadata": {},
   "source": [
    "*Построим гистограмму среднего чека в каждой из групп:*"
   ]
  },
  {
   "cell_type": "code",
   "execution_count": 194,
   "metadata": {},
   "outputs": [
    {
     "data": {
      "image/png": "[encoded data removed]",
      "text/plain": [
       "<Figure size 1200x400 with 2 Axes>"
      ]
     },
     "metadata": {},
     "output_type": "display_data"
    }
   ],
   "source": [
    "# создаём два графика размером 12x4\n",
    "fig, axes = plt.subplots(1, 2, figsize=(12, 4))\n",
    "# строим гистограмму для времени на сайте в каждой группе\n",
    "sns.histplot(x='average_check', data=daily_data[daily_data['group']=='A'], ax=axes[0])\n",
    "sns.histplot(x='average_check', data=daily_data[daily_data['group']=='B'], ax=axes[1])\n",
    "# задаём названия графикам\n",
    "axes[0].set_title('Распределение среднего чека в группе А');\n",
    "axes[1].set_title('Распределение среднего чека в группе B');"
   ]
  },
  {
   "cell_type": "markdown",
   "metadata": {},
   "source": [
    "*Гистограммы слабо напоминают нормальное распределение. Давайте проверим гипотезу о нормальности обоих распределений с помощью критерия Шапиро — Уилка.*"
   ]
  },
  {
   "cell_type": "markdown",
   "metadata": {},
   "source": [
    "*Зададим уровень значимости и проверим гипотезу о нормальности каждого из распределений (нулевая гипотеза — распределение нормальное, альтернативная — распределение отлично от нормального):*"
   ]
  },
  {
   "cell_type": "code",
   "execution_count": 195,
   "metadata": {},
   "outputs": [
    {
     "name": "stdout",
     "output_type": "stream",
     "text": [
      "p-value группы А 0.25\n",
      "p-value группы B 0.09\n",
      "Принимаем нулевую гипотезу. Распределение в группе А является нормальным\n",
      "Принимаем нулевую гипотезу. Распределение в группе B является нормальным\n"
     ]
    }
   ],
   "source": [
    "alpha = 0.05 # уровень значимости\n",
    "# вычисляем результат теста Шапиро — Уилка для выборок\n",
    "average_check_a = daily_data[daily_data['group']=='A'].average_check\n",
    "average_check_b = daily_data[daily_data['group']=='B'].average_check\n",
    "shapiro_result_a = shapiro(average_check_a)\n",
    "shapiro_result_b = shapiro(average_check_b)\n",
    "print('p-value группы А', round(shapiro_result_a.pvalue, 2))\n",
    "print('p-value группы B', round(shapiro_result_b.pvalue, 2))\n",
    "\n",
    "# сравниваем полученное p-value для группы А с уровнем значимости\n",
    "if shapiro_result_a.pvalue <= alpha:\n",
    "    print(\"Отвергаем нулевую гипотезу в пользу альтернативной. Распределение в группе А отлично от нормального\")\n",
    "else:\n",
    "    print(\"Принимаем нулевую гипотезу. Распределение в группе А является нормальным\")\n",
    "\n",
    "# сравниваем полученное p-value для группы B с уровнем значимости\n",
    "if shapiro_result_b.pvalue <= alpha:\n",
    "    print(\"Отвергаем нулевую гипотезу в пользу альтернативной. Распределение в группе B отлично от нормального\")\n",
    "else:\n",
    "    print(\"Принимаем нулевую гипотезу. Распределение в группе B является нормальным\")"
   ]
  },
  {
   "cell_type": "markdown",
   "metadata": {},
   "source": [
    "*Итак, распределение в обеих группах нормальное, а значит, мы можем воспользоваться T-тестом, чтобы сравнить среднее время посещения сайта в группах.*"
   ]
  },
  {
   "cell_type": "code",
   "execution_count": 196,
   "metadata": {},
   "outputs": [
    {
     "name": "stdout",
     "output_type": "stream",
     "text": [
      "p-value: 0.0\n",
      "Отвергаем нулевую гипотезу в пользу альтернативной\n"
     ]
    }
   ],
   "source": [
    "alpha = 0.05 #уровень значимости\n",
    "# вычисляем результат T-теста для выборок\n",
    "results = ttest_ind(\n",
    "    a=average_check_a,\n",
    "    b=average_check_b,\n",
    "    alternative='less'\n",
    ")\n",
    "print('p-value:', round(results.pvalue, 2))\n",
    "\n",
    "# сравниваем полученное p-value с уровнем значимости\n",
    "if results.pvalue <= alpha:\n",
    "    print(\"Отвергаем нулевую гипотезу в пользу альтернативной\")\n",
    "else:\n",
    "    print(\"У нас нет оснований отвергнуть нулевую гипотезу\")\n",
    "\n",
    "# p-value: 0.0\n",
    "# Отвергаем нулевую гипотезу в пользу альтернативной"
   ]
  },
  {
   "cell_type": "markdown",
   "metadata": {},
   "source": [
    "*Итак, в результате проведения T-теста мы получили p-value = 0, что меньше, чем уровень значимости. Это значит, что мы отвергаем нулевую гипотезу в пользу альтернативной.*"
   ]
  },
  {
   "cell_type": "markdown",
   "metadata": {},
   "source": [
    "*Что это значит для нас и для бизнеса?*\n",
    "\n",
    "*Так как истинные значения средних чеков в группе В больше чем в группе А (с уровнем значимости 0.05), то для нас это значит, что альтернативная гипотеза подтверждается статистически.*\n",
    "\n",
    "*Переводим на язык бизнеса: На основе данных мы видим, что вариант В посадочной страницы более предпочтителен по метрике ежедневного среднего чека.*"
   ]
  },
  {
   "cell_type": "markdown",
   "metadata": {},
   "source": [
    "#### Подкрепим результаты статистических тестов, построив 95 % доверительные интервалы для:\n",
    "\n",
    "- конверсий в каждой из групп;\n",
    "- разницы конверсий в группах;\n",
    "- ежедневного среднего чека в каждой из групп."
   ]
  },
  {
   "cell_type": "markdown",
   "metadata": {},
   "source": [
    "*Для удобства создадим отдельные таблицы для каждой из групп пользователей:*"
   ]
  },
  {
   "cell_type": "code",
   "execution_count": 197,
   "metadata": {},
   "outputs": [],
   "source": [
    "# фильтруем данные группы А\n",
    "data_claened_a = data_claened[data_claened['group'] == 'A']\n",
    "# фильтруем данные группы B\n",
    "data_claened_b = data_claened[data_claened['group'] == 'B']"
   ]
  },
  {
   "cell_type": "markdown",
   "metadata": {},
   "source": [
    "*Оформим расчёт в виде функции: объявим функцию proportion_conf_interval(). У данной функции будет три аргумента: x_p — выборочная пропорция, n — размер выборки и gamma — уровень надёжности (по умолчанию он равен 0.95). Функция будет возвращать кортеж из вычисленных границ доверительного интервала, умноженных на 100 % и округлённых до второго знака после запятой.*"
   ]
  },
  {
   "cell_type": "code",
   "execution_count": 198,
   "metadata": {},
   "outputs": [],
   "source": [
    "def proportion_conf_interval(x_p, n, gamma=0.95):  \n",
    "    alpha = 1 - gamma # уровень значимости\n",
    "    z_crit = -norm.ppf(alpha/2) # z-критическое\n",
    "    eps = z_crit * (x_p * (1 - x_p) / n) ** 0.5 # погрешность\n",
    "    lower_bound = x_p - eps # левая (нижняя) граница\n",
    "    upper_bound = x_p + eps # правая (верхняя) граница\n",
    "    # возвращаем кортеж из границ интервала\n",
    "    return lower_bound, upper_bound"
   ]
  },
  {
   "cell_type": "markdown",
   "metadata": {},
   "source": [
    "*Теперь применим нашу функцию к данным группы А и группы B, результат умножим на 100 % и округлим до сотых:*"
   ]
  },
  {
   "cell_type": "code",
   "execution_count": 200,
   "metadata": {},
   "outputs": [
    {
     "name": "stdout",
     "output_type": "stream",
     "text": [
      "Доверительный интервал для конверсии в группе А: (11.87, 12.2)\n",
      "Доверительный интервал для конверсии в группе B: (11.73, 12.06)\n"
     ]
    }
   ],
   "source": [
    "# строим доверительный интервал для конверсии в группе А\n",
    "lower_bound_a, upper_bound_a  = proportion_conf_interval(\n",
    "    x_p=data_claened_a['purchase'].mean(), # выборочная пропорция\n",
    "    n=data_claened_a['user_id'].count() # размер выборки\n",
    ")\n",
    "\n",
    "# строим доверительный интервал для конверсии в группе B\n",
    "lower_bound_b, upper_bound_b  = proportion_conf_interval(\n",
    "    x_p=data_claened_b['purchase'].mean(), # выборочная пропорция\n",
    "    n=data_claened_b['user_id'].count() # размер выборки\n",
    ")\n",
    "\n",
    "# выводим результат\n",
    "print('Доверительный интервал для конверсии в группе А: {}'.format((round(lower_bound_a * 100, 2), round(upper_bound_a * 100, 2))))\n",
    "print('Доверительный интервал для конверсии в группе B: {}'.format((round(lower_bound_b * 100, 2), round(upper_bound_b * 100, 2))))\n"
   ]
  },
  {
   "cell_type": "markdown",
   "metadata": {},
   "source": [
    "*Создадим функцию diff_proportion_conf_interval() со следующими аргументами: x_p — список из выборочных пропорций для групп А и B соответственно,  n — список из размеров выборки для групп А и B соответственно, и gamma — уровень надёжности (по умолчанию он равен 0.95). Функция будет возвращать кортеж из вычисленных границ доверительного интервала разницы конверсий, умноженных на 100 % и округлённых до второго знака после запятой.*"
   ]
  },
  {
   "cell_type": "code",
   "execution_count": 201,
   "metadata": {},
   "outputs": [],
   "source": [
    "def diff_proportion_conf_interval(x_p, n, gamma=0.95):\n",
    "    alpha = 1 - gamma # уровень значимости\n",
    "    diff = x_p[1] - x_p[0] # выборочная разница конверсий групп B и A\n",
    "    z_crit = -norm.ppf(alpha/2) #z-критическое\n",
    "    eps = z_crit * (x_p[0] * (1 - x_p[0])/n[0] + x_p[1] * (1 - x_p[1])/n[1]) ** 0.5 # погрешность\n",
    "    lower_bound = diff - eps # левая (нижняя) граница\n",
    "    upper_bound = diff + eps # правая (верхняя) граница\n",
    "    # возвращаем кортеж из  границ интервала\n",
    "    return lower_bound, upper_bound"
   ]
  },
  {
   "cell_type": "code",
   "execution_count": 202,
   "metadata": {},
   "outputs": [
    {
     "name": "stdout",
     "output_type": "stream",
     "text": [
      "Доверительный интервал для разности конверсий: (-0.24, 0.24)\n"
     ]
    }
   ],
   "source": [
    "# размеры выборок групп А и B\n",
    "n = [data_claened_a['user_id'].count(), data_claened_b['user_id'].count()]\n",
    "# выборочная пропорция групп A и B\n",
    "x_p = [data_claened_b['purchase'].mean(), data_claened_b['purchase'].mean()]\n",
    "\n",
    "\n",
    "# строим доверительный интервал для разности пропорций\n",
    "lower_bound, upper_bound = diff_proportion_conf_interval(x_p=x_p, n=n)\n",
    "\n",
    "\n",
    "# выводим результат\n",
    "print('Доверительный интервал для разности конверсий: {}'.format(\n",
    "    (round(lower_bound*100, 2), round(upper_bound*100, 2))))"
   ]
  },
  {
   "cell_type": "markdown",
   "metadata": {},
   "source": [
    "*Итак, что можно сказать теперь? Построенный доверительный интервал конверсий с 95 %-ой надёжностью говорит нам, что разница в конверсии между вариантом B и вариантом А лежит в интервале от -0.24 % до 0.24 %. Это значит, что варианты А и B равнозначны по метрике конверсии.*"
   ]
  },
  {
   "cell_type": "markdown",
   "metadata": {},
   "source": [
    "*Построим доверительный интервал для среднего чека при неизвестном истинном стандартном отклонении с надёжностью в 95 %.*"
   ]
  },
  {
   "cell_type": "markdown",
   "metadata": {},
   "source": [
    "*Для удобства создадим отдельные таблицы для каждой из групп пользователей:*"
   ]
  },
  {
   "cell_type": "code",
   "execution_count": 207,
   "metadata": {},
   "outputs": [],
   "source": [
    "# фильтруем данные группы А\n",
    "daily_data_a = daily_data[daily_data['group'] == 'A']\n",
    "# фильтруем данные группы B\n",
    "daily_data_b = daily_data[daily_data['group'] == 'B']"
   ]
  },
  {
   "cell_type": "markdown",
   "metadata": {},
   "source": [
    "*Итак, зададим необходимые для решения задачи переменные групп А и B:*"
   ]
  },
  {
   "cell_type": "code",
   "execution_count": 221,
   "metadata": {},
   "outputs": [],
   "source": [
    "n = daily_data_a.shape[0] # размер выборки групп А и В одинаковый\n",
    "k = n - 1 # число степеней свободы\n",
    "x_mean_a = daily_data_a.average_check.mean() # выборочное среднее\n",
    "x_std_a = daily_data_a.average_check.std() # выборочное стандартное отклонение\n",
    "x_mean_b = daily_data_b.average_check.mean() # выборочное среднее\n",
    "x_std_b = daily_data_b.average_check.std() # выборочное стандартное отклонение\n",
    "gamma = 0.95 # уровень надёжности\n",
    "alpha = 1 - gamma # уровень значимости"
   ]
  },
  {
   "cell_type": "markdown",
   "metadata": {},
   "source": [
    "*Найдем значение t-критического для любого уровня значимости можно, используя функцию t.ppf() из модуля scipy.stats. Для этого в функцию передаётся интересующий уровень значимости () и число степеней свободы (). Аналогично z-критическому функция возвращает отрицательный модуль t-критического, поэтому мы берём его со знаком минус:*"
   ]
  },
  {
   "cell_type": "code",
   "execution_count": 223,
   "metadata": {},
   "outputs": [
    {
     "name": "stdout",
     "output_type": "stream",
     "text": [
      "2.0738730679040147\n"
     ]
    }
   ],
   "source": [
    "t_crit = -t.ppf(alpha/2, k) # t-критическое\n",
    "print(t_crit)"
   ]
  },
  {
   "cell_type": "markdown",
   "metadata": {},
   "source": [
    "*Теперь составим доверительный интервал для истинного среднего чека для групп А и В. Давайте напишем функцию для вычисления доверительного интервала для среднего — t_mean_conf_interval(). Округлим результат и выведем на экран:*"
   ]
  },
  {
   "cell_type": "code",
   "execution_count": 224,
   "metadata": {},
   "outputs": [
    {
     "name": "stdout",
     "output_type": "stream",
     "text": [
      "Доверительный интервал среднего чека в группе А: (79630, 82308)\n",
      "Доверительный интервал среднего чека в группе B: (87626, 89526)\n"
     ]
    }
   ],
   "source": [
    "def t_mean_conf_interval(x_mean, x_std, n, gamma=0.95):  \n",
    "    alpha = 1 - gamma # уровень значимости\n",
    "    t_crit = -t.ppf(alpha/2, k) # t-критическое\n",
    "    eps = t_crit * x_std/(n ** 0.5) # погрешность\n",
    "    lower_bound = x_mean - eps # левая (нижняя) граница\n",
    "    upper_bound = x_mean + eps # правая (верхняя) граница\n",
    "    # возвращаем кортеж из границ интервала\n",
    "    return lower_bound, upper_bound\n",
    "\n",
    "# cтроим доверительный интервал для среднего при неизвестном СКО\n",
    "lower_bound_a, upper_bound_a = t_mean_conf_interval(x_mean_a, x_std_a, n)\n",
    "lower_bound_b, upper_bound_b = t_mean_conf_interval(x_mean_b, x_std_b, n)\n",
    "# выводим результат\n",
    "print('Доверительный интервал среднего чека в группе А: {}'.format(\n",
    "    (round(lower_bound_a), round(upper_bound_a))))\n",
    "print('Доверительный интервал среднего чека в группе B: {}'.format(\n",
    "    (round(lower_bound_b), round(upper_bound_b))))"
   ]
  },
  {
   "cell_type": "markdown",
   "metadata": {},
   "source": [
    "#### Проинтерпретируем построенные доверительные интервалы для конверсий и ежедневного среднего чека в группах. "
   ]
  },
  {
   "cell_type": "markdown",
   "metadata": {},
   "source": [
    "*Из полученного доверительного интервала разницы конверсий можно сделать вывод, что статистической разницы в конверсии между вариантами А и B не существует, то есть они являются равнозначными по данной метрике.*"
   ]
  },
  {
   "cell_type": "markdown",
   "metadata": {},
   "source": [
    "*Перекрытия между доверительными интервалами среднего чека для групп А и В не зафиксировано. Это в очередной раз подтверждает, что существует статистически значимая разница в данном показателе между группами А и В. А если быть точнее то, в группе В средний чек выше.*"
   ]
  },
  {
   "cell_type": "markdown",
   "metadata": {},
   "source": [
    "### Сделаем общий вывод по результатам A/B-теста"
   ]
  },
  {
   "cell_type": "markdown",
   "metadata": {},
   "source": [
    "*Оба варианта дизайна посадочной страницы одинаково эффективны по метрике конверсии. По метрике ежедневного среднего чека наиболее эффективен вариант В. Данный вывод основан на результатах первичного и статистического анализов.*"
   ]
  }
 ],
 "metadata": {
  "kernelspec": {
   "display_name": "Python 3",
   "language": "python",
   "name": "python3"
  },
  "language_info": {
   "codemirror_mode": {
    "name": "ipython",
    "version": 3
   },
   "file_extension": ".py",
   "mimetype": "text/x-python",
   "name": "python",
   "nbconvert_exporter": "python",
   "pygments_lexer": "ipython3",
   "version": "3.10.10"
  }
 },
 "nbformat": 4,
 "nbformat_minor": 2
}
